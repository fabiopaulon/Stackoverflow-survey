{
 "cells": [
  {
   "cell_type": "markdown",
   "metadata": {},
   "source": [
    "# Stack Overflow 2020 Survey analysis\n",
    "## 1. Introduction\n",
    "\n",
    "### 1.1. Business understanding\n",
    "\n",
    "#### 1.1.1. About Stack Overflow\n",
    "Basically everybody that does some kind of programming and uses google might have bumped into this page at least once. It is focused in more specific, less generalistic questions [1] , hence a tool to quickly solve issues and doubts when programming.\n",
    "\n",
    "It has over 15 million users, with an average of 6.2k answers per day, with a total of 32 million answers over 21 million questions, as of June, 2021 [2].\n",
    "\n",
    "#### 1.1.2. About the Survey\n",
    "\n",
    "Since 2011, Stack Overflow has been conducting yearly surveys to evaluate career, experience, tools used, and personal information such as age, gender, ethnicity [3] [4]. There are about 65 thousand developers that responded this survey in 2020. Not all answers were mandatory, including salary, and some survey responses were discarded because respondents spent less than 3 minutes on the survey.\n"
   ]
  },
  {
   "cell_type": "markdown",
   "metadata": {},
   "source": [
    "#### 1.1.3 Goals\n",
    "With the data available, I wish to understand and analyze the following questions:\n",
    "\n",
    "- A: \"Do employees of smaller companies earn overall less than those working for bigger companies?\"\n",
    "- B: \"Job satisfaction equals bigger salary?\"\n",
    "- C: \"What is the influence Job satisfaction and Job seeking factors into Job seeking status?\"\n",
    "\n",
    "#### References of this section\n",
    "[1]: https://stackoverflow.com/help/how-to-ask. Retrieved June, 27th 2021.\n",
    "<br>[2]: https://stackexchange.com/sites?view=list#questions. Retrieved June, 27th 2021.\n",
    "<br>[3]: https://insights.stackoverflow.com/survey/2020. Retrieved June, 27th 2021.\n",
    "<br>[4]: https://insights.stackoverflow.com/survey/. Retrieved June, 27th 2021.\n"
   ]
  },
  {
   "cell_type": "markdown",
   "metadata": {},
   "source": [
    "### 1.2. Data Understanding\n",
    "\n",
    "Survey data is a csv file. There is also another csv file with a data schema, explaining what each column means, and a pdf copy of the survey site. Let's take a look at the dictionary first."
   ]
  },
  {
   "cell_type": "code",
   "execution_count": 1,
   "metadata": {},
   "outputs": [],
   "source": [
    "# importing fundamental libraries\n",
    "\n",
    "import pandas as pd\n",
    "import matplotlib.pyplot as plt\n",
    "import numpy as np\n",
    "import seaborn as sns"
   ]
  },
  {
   "cell_type": "markdown",
   "metadata": {},
   "source": [
    "### 1.2.1. Loading data schema through a CSV file.\n"
   ]
  },
  {
   "cell_type": "code",
   "execution_count": 2,
   "metadata": {},
   "outputs": [],
   "source": [
    "data_schema = pd.read_csv('.gitignore\\\\survey_results_schema.csv')"
   ]
  },
  {
   "cell_type": "code",
   "execution_count": 3,
   "metadata": {},
   "outputs": [
    {
     "data": {
      "text/html": [
       "<div>\n",
       "<style scoped>\n",
       "    .dataframe tbody tr th:only-of-type {\n",
       "        vertical-align: middle;\n",
       "    }\n",
       "\n",
       "    .dataframe tbody tr th {\n",
       "        vertical-align: top;\n",
       "    }\n",
       "\n",
       "    .dataframe thead th {\n",
       "        text-align: right;\n",
       "    }\n",
       "</style>\n",
       "<table border=\"1\" class=\"dataframe\">\n",
       "  <thead>\n",
       "    <tr style=\"text-align: right;\">\n",
       "      <th></th>\n",
       "      <th>Column</th>\n",
       "      <th>QuestionText</th>\n",
       "    </tr>\n",
       "  </thead>\n",
       "  <tbody>\n",
       "    <tr>\n",
       "      <th>0</th>\n",
       "      <td>Respondent</td>\n",
       "      <td>Randomized respondent ID number (not in order ...</td>\n",
       "    </tr>\n",
       "    <tr>\n",
       "      <th>1</th>\n",
       "      <td>MainBranch</td>\n",
       "      <td>Which of the following options best describes ...</td>\n",
       "    </tr>\n",
       "    <tr>\n",
       "      <th>2</th>\n",
       "      <td>Hobbyist</td>\n",
       "      <td>Do you code as a hobby?</td>\n",
       "    </tr>\n",
       "    <tr>\n",
       "      <th>3</th>\n",
       "      <td>Age</td>\n",
       "      <td>What is your age (in years)? If you prefer not...</td>\n",
       "    </tr>\n",
       "    <tr>\n",
       "      <th>4</th>\n",
       "      <td>Age1stCode</td>\n",
       "      <td>At what age did you write your first line of c...</td>\n",
       "    </tr>\n",
       "    <tr>\n",
       "      <th>5</th>\n",
       "      <td>CompFreq</td>\n",
       "      <td>Is that compensation weekly, monthly, or yearly?</td>\n",
       "    </tr>\n",
       "    <tr>\n",
       "      <th>6</th>\n",
       "      <td>CompTotal</td>\n",
       "      <td>What is your current total compensation (salar...</td>\n",
       "    </tr>\n",
       "    <tr>\n",
       "      <th>7</th>\n",
       "      <td>ConvertedComp</td>\n",
       "      <td>Salary converted to annual USD salaries using ...</td>\n",
       "    </tr>\n",
       "    <tr>\n",
       "      <th>8</th>\n",
       "      <td>Country</td>\n",
       "      <td>Where do you live?</td>\n",
       "    </tr>\n",
       "    <tr>\n",
       "      <th>9</th>\n",
       "      <td>CurrencyDesc</td>\n",
       "      <td>Which currency do you use day-to-day? If your ...</td>\n",
       "    </tr>\n",
       "  </tbody>\n",
       "</table>\n",
       "</div>"
      ],
      "text/plain": [
       "          Column                                       QuestionText\n",
       "0     Respondent  Randomized respondent ID number (not in order ...\n",
       "1     MainBranch  Which of the following options best describes ...\n",
       "2       Hobbyist                            Do you code as a hobby?\n",
       "3            Age  What is your age (in years)? If you prefer not...\n",
       "4     Age1stCode  At what age did you write your first line of c...\n",
       "5       CompFreq   Is that compensation weekly, monthly, or yearly?\n",
       "6      CompTotal  What is your current total compensation (salar...\n",
       "7  ConvertedComp  Salary converted to annual USD salaries using ...\n",
       "8        Country                                 Where do you live?\n",
       "9   CurrencyDesc  Which currency do you use day-to-day? If your ..."
      ]
     },
     "execution_count": 3,
     "metadata": {},
     "output_type": "execute_result"
    }
   ],
   "source": [
    "# run this if you want to see each one of the columns and its respective explanations\n",
    "\n",
    "data_schema.head(10)\n",
    "\n",
    "#data_schema.iloc[7,:]"
   ]
  },
  {
   "cell_type": "markdown",
   "metadata": {},
   "source": [
    "### 1.2.2. Loading survey data through a CSV file."
   ]
  },
  {
   "cell_type": "code",
   "execution_count": 4,
   "metadata": {},
   "outputs": [],
   "source": [
    "data = pd.read_csv('.gitignore\\\\survey_results_public.csv')"
   ]
  },
  {
   "cell_type": "code",
   "execution_count": 5,
   "metadata": {},
   "outputs": [
    {
     "data": {
      "text/html": [
       "<div>\n",
       "<style scoped>\n",
       "    .dataframe tbody tr th:only-of-type {\n",
       "        vertical-align: middle;\n",
       "    }\n",
       "\n",
       "    .dataframe tbody tr th {\n",
       "        vertical-align: top;\n",
       "    }\n",
       "\n",
       "    .dataframe thead th {\n",
       "        text-align: right;\n",
       "    }\n",
       "</style>\n",
       "<table border=\"1\" class=\"dataframe\">\n",
       "  <thead>\n",
       "    <tr style=\"text-align: right;\">\n",
       "      <th></th>\n",
       "      <th>Respondent</th>\n",
       "      <th>MainBranch</th>\n",
       "      <th>Hobbyist</th>\n",
       "      <th>Age</th>\n",
       "      <th>Age1stCode</th>\n",
       "      <th>CompFreq</th>\n",
       "      <th>CompTotal</th>\n",
       "      <th>ConvertedComp</th>\n",
       "      <th>Country</th>\n",
       "      <th>CurrencyDesc</th>\n",
       "      <th>...</th>\n",
       "      <th>SurveyEase</th>\n",
       "      <th>SurveyLength</th>\n",
       "      <th>Trans</th>\n",
       "      <th>UndergradMajor</th>\n",
       "      <th>WebframeDesireNextYear</th>\n",
       "      <th>WebframeWorkedWith</th>\n",
       "      <th>WelcomeChange</th>\n",
       "      <th>WorkWeekHrs</th>\n",
       "      <th>YearsCode</th>\n",
       "      <th>YearsCodePro</th>\n",
       "    </tr>\n",
       "  </thead>\n",
       "  <tbody>\n",
       "    <tr>\n",
       "      <th>0</th>\n",
       "      <td>1</td>\n",
       "      <td>I am a developer by profession</td>\n",
       "      <td>Yes</td>\n",
       "      <td>NaN</td>\n",
       "      <td>13</td>\n",
       "      <td>Monthly</td>\n",
       "      <td>NaN</td>\n",
       "      <td>NaN</td>\n",
       "      <td>Germany</td>\n",
       "      <td>European Euro</td>\n",
       "      <td>...</td>\n",
       "      <td>Neither easy nor difficult</td>\n",
       "      <td>Appropriate in length</td>\n",
       "      <td>No</td>\n",
       "      <td>Computer science, computer engineering, or sof...</td>\n",
       "      <td>ASP.NET Core</td>\n",
       "      <td>ASP.NET;ASP.NET Core</td>\n",
       "      <td>Just as welcome now as I felt last year</td>\n",
       "      <td>50.0</td>\n",
       "      <td>36</td>\n",
       "      <td>27</td>\n",
       "    </tr>\n",
       "    <tr>\n",
       "      <th>1</th>\n",
       "      <td>2</td>\n",
       "      <td>I am a developer by profession</td>\n",
       "      <td>No</td>\n",
       "      <td>NaN</td>\n",
       "      <td>19</td>\n",
       "      <td>NaN</td>\n",
       "      <td>NaN</td>\n",
       "      <td>NaN</td>\n",
       "      <td>United Kingdom</td>\n",
       "      <td>Pound sterling</td>\n",
       "      <td>...</td>\n",
       "      <td>NaN</td>\n",
       "      <td>NaN</td>\n",
       "      <td>NaN</td>\n",
       "      <td>Computer science, computer engineering, or sof...</td>\n",
       "      <td>NaN</td>\n",
       "      <td>NaN</td>\n",
       "      <td>Somewhat more welcome now than last year</td>\n",
       "      <td>NaN</td>\n",
       "      <td>7</td>\n",
       "      <td>4</td>\n",
       "    </tr>\n",
       "    <tr>\n",
       "      <th>2</th>\n",
       "      <td>3</td>\n",
       "      <td>I code primarily as a hobby</td>\n",
       "      <td>Yes</td>\n",
       "      <td>NaN</td>\n",
       "      <td>15</td>\n",
       "      <td>NaN</td>\n",
       "      <td>NaN</td>\n",
       "      <td>NaN</td>\n",
       "      <td>Russian Federation</td>\n",
       "      <td>NaN</td>\n",
       "      <td>...</td>\n",
       "      <td>Neither easy nor difficult</td>\n",
       "      <td>Appropriate in length</td>\n",
       "      <td>NaN</td>\n",
       "      <td>NaN</td>\n",
       "      <td>NaN</td>\n",
       "      <td>NaN</td>\n",
       "      <td>Somewhat more welcome now than last year</td>\n",
       "      <td>NaN</td>\n",
       "      <td>4</td>\n",
       "      <td>NaN</td>\n",
       "    </tr>\n",
       "    <tr>\n",
       "      <th>3</th>\n",
       "      <td>4</td>\n",
       "      <td>I am a developer by profession</td>\n",
       "      <td>Yes</td>\n",
       "      <td>25.0</td>\n",
       "      <td>18</td>\n",
       "      <td>NaN</td>\n",
       "      <td>NaN</td>\n",
       "      <td>NaN</td>\n",
       "      <td>Albania</td>\n",
       "      <td>Albanian lek</td>\n",
       "      <td>...</td>\n",
       "      <td>NaN</td>\n",
       "      <td>NaN</td>\n",
       "      <td>No</td>\n",
       "      <td>Computer science, computer engineering, or sof...</td>\n",
       "      <td>NaN</td>\n",
       "      <td>NaN</td>\n",
       "      <td>Somewhat less welcome now than last year</td>\n",
       "      <td>40.0</td>\n",
       "      <td>7</td>\n",
       "      <td>4</td>\n",
       "    </tr>\n",
       "    <tr>\n",
       "      <th>4</th>\n",
       "      <td>5</td>\n",
       "      <td>I used to be a developer by profession, but no...</td>\n",
       "      <td>Yes</td>\n",
       "      <td>31.0</td>\n",
       "      <td>16</td>\n",
       "      <td>NaN</td>\n",
       "      <td>NaN</td>\n",
       "      <td>NaN</td>\n",
       "      <td>United States</td>\n",
       "      <td>NaN</td>\n",
       "      <td>...</td>\n",
       "      <td>Easy</td>\n",
       "      <td>Too short</td>\n",
       "      <td>No</td>\n",
       "      <td>Computer science, computer engineering, or sof...</td>\n",
       "      <td>Django;Ruby on Rails</td>\n",
       "      <td>Ruby on Rails</td>\n",
       "      <td>Just as welcome now as I felt last year</td>\n",
       "      <td>NaN</td>\n",
       "      <td>15</td>\n",
       "      <td>8</td>\n",
       "    </tr>\n",
       "  </tbody>\n",
       "</table>\n",
       "<p>5 rows × 61 columns</p>\n",
       "</div>"
      ],
      "text/plain": [
       "   Respondent                                         MainBranch Hobbyist  \\\n",
       "0           1                     I am a developer by profession      Yes   \n",
       "1           2                     I am a developer by profession       No   \n",
       "2           3                        I code primarily as a hobby      Yes   \n",
       "3           4                     I am a developer by profession      Yes   \n",
       "4           5  I used to be a developer by profession, but no...      Yes   \n",
       "\n",
       "    Age Age1stCode CompFreq  CompTotal  ConvertedComp             Country  \\\n",
       "0   NaN         13  Monthly        NaN            NaN             Germany   \n",
       "1   NaN         19      NaN        NaN            NaN      United Kingdom   \n",
       "2   NaN         15      NaN        NaN            NaN  Russian Federation   \n",
       "3  25.0         18      NaN        NaN            NaN             Albania   \n",
       "4  31.0         16      NaN        NaN            NaN       United States   \n",
       "\n",
       "     CurrencyDesc  ...                  SurveyEase           SurveyLength  \\\n",
       "0   European Euro  ...  Neither easy nor difficult  Appropriate in length   \n",
       "1  Pound sterling  ...                         NaN                    NaN   \n",
       "2             NaN  ...  Neither easy nor difficult  Appropriate in length   \n",
       "3    Albanian lek  ...                         NaN                    NaN   \n",
       "4             NaN  ...                        Easy              Too short   \n",
       "\n",
       "  Trans                                     UndergradMajor  \\\n",
       "0    No  Computer science, computer engineering, or sof...   \n",
       "1   NaN  Computer science, computer engineering, or sof...   \n",
       "2   NaN                                                NaN   \n",
       "3    No  Computer science, computer engineering, or sof...   \n",
       "4    No  Computer science, computer engineering, or sof...   \n",
       "\n",
       "  WebframeDesireNextYear    WebframeWorkedWith  \\\n",
       "0           ASP.NET Core  ASP.NET;ASP.NET Core   \n",
       "1                    NaN                   NaN   \n",
       "2                    NaN                   NaN   \n",
       "3                    NaN                   NaN   \n",
       "4   Django;Ruby on Rails         Ruby on Rails   \n",
       "\n",
       "                              WelcomeChange WorkWeekHrs YearsCode YearsCodePro  \n",
       "0   Just as welcome now as I felt last year        50.0        36           27  \n",
       "1  Somewhat more welcome now than last year         NaN         7            4  \n",
       "2  Somewhat more welcome now than last year         NaN         4          NaN  \n",
       "3  Somewhat less welcome now than last year        40.0         7            4  \n",
       "4   Just as welcome now as I felt last year         NaN        15            8  \n",
       "\n",
       "[5 rows x 61 columns]"
      ]
     },
     "execution_count": 5,
     "metadata": {},
     "output_type": "execute_result"
    }
   ],
   "source": [
    "data.head()"
   ]
  },
  {
   "cell_type": "markdown",
   "metadata": {},
   "source": [
    "Checking the rate of null values. As we can see below, there is plenty of null.\n"
   ]
  },
  {
   "cell_type": "code",
   "execution_count": 6,
   "metadata": {},
   "outputs": [
    {
     "data": {
      "text/html": [
       "<style  type=\"text/css\" >\n",
       "    #T_b9f5460c_211e_11ec_9091_54e1ad0c963frow0_col0 {\n",
       "            width:  10em;\n",
       "             height:  80%;\n",
       "        }    #T_b9f5460c_211e_11ec_9091_54e1ad0c963frow1_col0 {\n",
       "            width:  10em;\n",
       "             height:  80%;\n",
       "            background:  linear-gradient(90deg,#d65f5f 1.0%, transparent 1.0%);\n",
       "        }    #T_b9f5460c_211e_11ec_9091_54e1ad0c963frow2_col0 {\n",
       "            width:  10em;\n",
       "             height:  80%;\n",
       "            background:  linear-gradient(90deg,#d65f5f 0.2%, transparent 0.2%);\n",
       "        }    #T_b9f5460c_211e_11ec_9091_54e1ad0c963frow3_col0 {\n",
       "            width:  10em;\n",
       "             height:  80%;\n",
       "            background:  linear-gradient(90deg,#d65f5f 64.0%, transparent 64.0%);\n",
       "        }    #T_b9f5460c_211e_11ec_9091_54e1ad0c963frow4_col0 {\n",
       "            width:  10em;\n",
       "             height:  80%;\n",
       "            background:  linear-gradient(90deg,#d65f5f 22.1%, transparent 22.1%);\n",
       "        }    #T_b9f5460c_211e_11ec_9091_54e1ad0c963frow5_col0 {\n",
       "            width:  10em;\n",
       "             height:  80%;\n",
       "            background:  linear-gradient(90deg,#d65f5f 82.1%, transparent 82.1%);\n",
       "        }    #T_b9f5460c_211e_11ec_9091_54e1ad0c963frow6_col0 {\n",
       "            width:  10em;\n",
       "             height:  80%;\n",
       "            background:  linear-gradient(90deg,#d65f5f 99.8%, transparent 99.8%);\n",
       "        }    #T_b9f5460c_211e_11ec_9091_54e1ad0c963frow7_col0 {\n",
       "            width:  10em;\n",
       "             height:  80%;\n",
       "            background:  linear-gradient(90deg,#d65f5f 100.0%, transparent 100.0%);\n",
       "        }    #T_b9f5460c_211e_11ec_9091_54e1ad0c963frow8_col0 {\n",
       "            width:  10em;\n",
       "             height:  80%;\n",
       "            background:  linear-gradient(90deg,#d65f5f 1.3%, transparent 1.3%);\n",
       "        }    #T_b9f5460c_211e_11ec_9091_54e1ad0c963frow9_col0 {\n",
       "            width:  10em;\n",
       "             height:  80%;\n",
       "            background:  linear-gradient(90deg,#d65f5f 63.9%, transparent 63.9%);\n",
       "        }</style><table id=\"T_b9f5460c_211e_11ec_9091_54e1ad0c963f\" ><thead>    <tr>        <th class=\"blank level0\" ></th>        <th class=\"col_heading level0 col0\" >0</th>    </tr></thead><tbody>\n",
       "                <tr>\n",
       "                        <th id=\"T_b9f5460c_211e_11ec_9091_54e1ad0c963flevel0_row0\" class=\"row_heading level0 row0\" >Respondent</th>\n",
       "                        <td id=\"T_b9f5460c_211e_11ec_9091_54e1ad0c963frow0_col0\" class=\"data row0 col0\" >0.000000</td>\n",
       "            </tr>\n",
       "            <tr>\n",
       "                        <th id=\"T_b9f5460c_211e_11ec_9091_54e1ad0c963flevel0_row1\" class=\"row_heading level0 row1\" >MainBranch</th>\n",
       "                        <td id=\"T_b9f5460c_211e_11ec_9091_54e1ad0c963frow1_col0\" class=\"data row1 col0\" >0.004638</td>\n",
       "            </tr>\n",
       "            <tr>\n",
       "                        <th id=\"T_b9f5460c_211e_11ec_9091_54e1ad0c963flevel0_row2\" class=\"row_heading level0 row2\" >Hobbyist</th>\n",
       "                        <td id=\"T_b9f5460c_211e_11ec_9091_54e1ad0c963frow2_col0\" class=\"data row2 col0\" >0.000698</td>\n",
       "            </tr>\n",
       "            <tr>\n",
       "                        <th id=\"T_b9f5460c_211e_11ec_9091_54e1ad0c963flevel0_row3\" class=\"row_heading level0 row3\" >Age</th>\n",
       "                        <td id=\"T_b9f5460c_211e_11ec_9091_54e1ad0c963frow3_col0\" class=\"data row3 col0\" >0.294985</td>\n",
       "            </tr>\n",
       "            <tr>\n",
       "                        <th id=\"T_b9f5460c_211e_11ec_9091_54e1ad0c963flevel0_row4\" class=\"row_heading level0 row4\" >Age1stCode</th>\n",
       "                        <td id=\"T_b9f5460c_211e_11ec_9091_54e1ad0c963frow4_col0\" class=\"data row4 col0\" >0.101782</td>\n",
       "            </tr>\n",
       "            <tr>\n",
       "                        <th id=\"T_b9f5460c_211e_11ec_9091_54e1ad0c963flevel0_row5\" class=\"row_heading level0 row5\" >CompFreq</th>\n",
       "                        <td id=\"T_b9f5460c_211e_11ec_9091_54e1ad0c963frow5_col0\" class=\"data row5 col0\" >0.378399</td>\n",
       "            </tr>\n",
       "            <tr>\n",
       "                        <th id=\"T_b9f5460c_211e_11ec_9091_54e1ad0c963flevel0_row6\" class=\"row_heading level0 row6\" >CompTotal</th>\n",
       "                        <td id=\"T_b9f5460c_211e_11ec_9091_54e1ad0c963frow6_col0\" class=\"data row6 col0\" >0.459735</td>\n",
       "            </tr>\n",
       "            <tr>\n",
       "                        <th id=\"T_b9f5460c_211e_11ec_9091_54e1ad0c963flevel0_row7\" class=\"row_heading level0 row7\" >ConvertedComp</th>\n",
       "                        <td id=\"T_b9f5460c_211e_11ec_9091_54e1ad0c963frow7_col0\" class=\"data row7 col0\" >0.460821</td>\n",
       "            </tr>\n",
       "            <tr>\n",
       "                        <th id=\"T_b9f5460c_211e_11ec_9091_54e1ad0c963flevel0_row8\" class=\"row_heading level0 row8\" >Country</th>\n",
       "                        <td id=\"T_b9f5460c_211e_11ec_9091_54e1ad0c963frow8_col0\" class=\"data row8 col0\" >0.006035</td>\n",
       "            </tr>\n",
       "            <tr>\n",
       "                        <th id=\"T_b9f5460c_211e_11ec_9091_54e1ad0c963flevel0_row9\" class=\"row_heading level0 row9\" >CurrencyDesc</th>\n",
       "                        <td id=\"T_b9f5460c_211e_11ec_9091_54e1ad0c963frow9_col0\" class=\"data row9 col0\" >0.294581</td>\n",
       "            </tr>\n",
       "    </tbody></table>"
      ],
      "text/plain": [
       "<pandas.io.formats.style.Styler at 0x17db5fe71c8>"
      ]
     },
     "execution_count": 6,
     "metadata": {},
     "output_type": "execute_result"
    }
   ],
   "source": [
    "(data.isna().sum()/data.shape[0]).head(10).to_frame().style.bar()"
   ]
  },
  {
   "cell_type": "markdown",
   "metadata": {},
   "source": [
    "# 2. Question A: \"Do employees of smaller companies earn overall less than those working for bigger companies?\""
   ]
  },
  {
   "cell_type": "markdown",
   "metadata": {},
   "source": [
    "## 2.1. Selecting Variables"
   ]
  },
  {
   "cell_type": "markdown",
   "metadata": {},
   "source": [
    "Here we will select the variables related to the question: ConvertedComp and OrgSize, as they are directly related to the question. I will also select the Country variable, as I suspect the converted compensation is heavily influenced by the Country, since it is just a convertion by exchange rate. If the salary was converted to a more diverse, relative metric, like purchasing power for exemple, we might see a more indirect effect of Country.\n",
    "\n",
    "As we can see below, the ConvertedComp and OrgSize have a high number of null values. However, there is still more than half of the dataset that have those two variables filled with valid entries."
   ]
  },
  {
   "cell_type": "code",
   "execution_count": 32,
   "metadata": {},
   "outputs": [
    {
     "data": {
      "text/html": [
       "<style  type=\"text/css\" >\n",
       "    #T_04e11854_2121_11ec_8c09_54e1ad0c963frow0_col0 {\n",
       "            width:  10em;\n",
       "             height:  80%;\n",
       "            background:  linear-gradient(90deg,#d65f5f 100.0%, transparent 100.0%);\n",
       "        }    #T_04e11854_2121_11ec_8c09_54e1ad0c963frow1_col0 {\n",
       "            width:  10em;\n",
       "             height:  80%;\n",
       "        }    #T_04e11854_2121_11ec_8c09_54e1ad0c963frow2_col0 {\n",
       "            width:  10em;\n",
       "             height:  80%;\n",
       "            background:  linear-gradient(90deg,#d65f5f 67.3%, transparent 67.3%);\n",
       "        }</style><table id=\"T_04e11854_2121_11ec_8c09_54e1ad0c963f\" ><thead>    <tr>        <th class=\"blank level0\" ></th>        <th class=\"col_heading level0 col0\" >0</th>    </tr></thead><tbody>\n",
       "                <tr>\n",
       "                        <th id=\"T_04e11854_2121_11ec_8c09_54e1ad0c963flevel0_row0\" class=\"row_heading level0 row0\" >ConvertedComp</th>\n",
       "                        <td id=\"T_04e11854_2121_11ec_8c09_54e1ad0c963frow0_col0\" class=\"data row0 col0\" >0.460821</td>\n",
       "            </tr>\n",
       "            <tr>\n",
       "                        <th id=\"T_04e11854_2121_11ec_8c09_54e1ad0c963flevel0_row1\" class=\"row_heading level0 row1\" >Country</th>\n",
       "                        <td id=\"T_04e11854_2121_11ec_8c09_54e1ad0c963frow1_col0\" class=\"data row1 col0\" >0.006035</td>\n",
       "            </tr>\n",
       "            <tr>\n",
       "                        <th id=\"T_04e11854_2121_11ec_8c09_54e1ad0c963flevel0_row2\" class=\"row_heading level0 row2\" >OrgSize</th>\n",
       "                        <td id=\"T_04e11854_2121_11ec_8c09_54e1ad0c963frow2_col0\" class=\"data row2 col0\" >0.312235</td>\n",
       "            </tr>\n",
       "    </tbody></table>"
      ],
      "text/plain": [
       "<pandas.io.formats.style.Styler at 0x17db1894f48>"
      ]
     },
     "execution_count": 32,
     "metadata": {},
     "output_type": "execute_result"
    }
   ],
   "source": [
    "(data[['ConvertedComp','Country','OrgSize']].isna().sum()/data.shape[0]).to_frame().style.bar()"
   ]
  },
  {
   "cell_type": "markdown",
   "metadata": {},
   "source": [
    "If we remove all rows that have null values in any of these three variables, we still keep ~ 46.9% of data"
   ]
  },
  {
   "cell_type": "code",
   "execution_count": 33,
   "metadata": {},
   "outputs": [
    {
     "name": "stdout",
     "output_type": "stream",
     "text": [
      "The percentage of non missing values in these 3 columns is 46.9 percent.\n"
     ]
    }
   ],
   "source": [
    "\n",
    "\n",
    "remaining_data = 100*(data.shape[0] - data[['ConvertedComp','Country','OrgSize']].dropna().shape[0])/data.shape[0]\n",
    "print('The percentage of non missing values in these 3 columns is {:.1f} percent.'.format(remaining_data))"
   ]
  },
  {
   "cell_type": "markdown",
   "metadata": {},
   "source": [
    "This means 34215 rows. Therefore, I opt to drop null rows."
   ]
  },
  {
   "cell_type": "code",
   "execution_count": 17,
   "metadata": {},
   "outputs": [
    {
     "name": "stdout",
     "output_type": "stream",
     "text": [
      "The total number of remaining rows is 34215.\n"
     ]
    }
   ],
   "source": [
    "q2 = data[['ConvertedComp','Country','OrgSize']].dropna()\n",
    "print('The total number of remaining rows is {:.0f}.'.format(q2.shape[0]))"
   ]
  },
  {
   "cell_type": "markdown",
   "metadata": {},
   "source": [
    "## 2.2. Plotting Salary x Organization Size"
   ]
  },
  {
   "cell_type": "code",
   "execution_count": 21,
   "metadata": {},
   "outputs": [
    {
     "data": {
      "text/plain": [
       "Text(0.5, 1.0, 'Organization Size x Compensation in USD')"
      ]
     },
     "execution_count": 21,
     "metadata": {},
     "output_type": "execute_result"
    },
    {
     "data": {
      "image/png": "[encoded data removed]",
      "text/plain": [
       "<Figure size 576x576 with 1 Axes>"
      ]
     },
     "metadata": {
      "needs_background": "light"
     },
     "output_type": "display_data"
    }
   ],
   "source": [
    "fig_dims = (8, 8)\n",
    "fig, ax = plt.subplots(figsize=fig_dims)\n",
    "ax = sns.boxplot(x=\"ConvertedComp\", y=\"OrgSize\", order=[\n",
    "    'Just me - I am a freelancer, sole proprietor, etc.','2 to 9 employees','10 to 19 employees',\n",
    "    '20 to 99 employees','100 to 499 employees','500 to 999 employees','1,000 to 4,999 employees',\n",
    "    '5,000 to 9,999 employees','10,000 or more employees'], data=q2)\n",
    "plt.ylabel('Organization Size')\n",
    "plt.xlabel('Converted Compensation in USD')\n",
    "plt.title('Organization Size x Compensation in USD')"
   ]
  },
  {
   "cell_type": "markdown",
   "metadata": {},
   "source": [
    "This result is quite interesting. We can see that the median of each category increases from the 2-9 employees to 10,000 ++ employees category, and the box becomes bigger. Since the box is formed by the first quartile and the last quartile, it is a good indicator that the spread increases with organization size as well.\n",
    "However, the freelancer/sole proprietor is different. The box is bigger and although the first quartile is a low value, like that of small companies, the third quartile is larger. \n",
    "The outliers, or instances outside of the 1.5 Interquartile range, are less frequent in the freelancer/sole proprietor category, unlike in the big, 10,000++ organization."
   ]
  },
  {
   "cell_type": "markdown",
   "metadata": {},
   "source": [
    "It is important to account for differences in Country compensation and participation in the survey.\n",
    "Let's understand what are the top countries and their mean compensations."
   ]
  },
  {
   "cell_type": "code",
   "execution_count": 41,
   "metadata": {},
   "outputs": [],
   "source": [
    "country_frequency = ((q2['Country'].value_counts()[:10])/q2.shape[0]).to_frame(name='relative_frequency')\n"
   ]
  },
  {
   "cell_type": "code",
   "execution_count": 42,
   "metadata": {},
   "outputs": [],
   "source": [
    "country_frequency['ConvertedCompMean'] = q2.groupby('Country').mean().loc[country_frequency.index.tolist()]"
   ]
  },
  {
   "cell_type": "code",
   "execution_count": 43,
   "metadata": {},
   "outputs": [
    {
     "data": {
      "text/plain": [
       "Text(0, 0.5, 'Relative Frequency')"
      ]
     },
     "execution_count": 43,
     "metadata": {},
     "output_type": "execute_result"
    },
    {
     "data": {
      "image/png": "[encoded data removed]",
      "text/plain": [
       "<Figure size 864x432 with 1 Axes>"
      ]
     },
     "metadata": {
      "needs_background": "light"
     },
     "output_type": "display_data"
    }
   ],
   "source": [
    "fig_dims = (12, 6)\n",
    "fig, ax = plt.subplots(figsize=fig_dims)\n",
    "ax = sns.barplot(x=country_frequency.index, y=\"relative_frequency\", data=country_frequency)\n",
    "plt.title('Relative Frequency of top 10 Countries')\n",
    "plt.ylabel('Relative Frequency')"
   ]
  },
  {
   "cell_type": "markdown",
   "metadata": {},
   "source": [
    "Now, for compensation mean per Country\n"
   ]
  },
  {
   "cell_type": "code",
   "execution_count": 44,
   "metadata": {},
   "outputs": [
    {
     "data": {
      "text/plain": [
       "Text(0, 0.5, 'Converted Compensation Mean in USD')"
      ]
     },
     "execution_count": 44,
     "metadata": {},
     "output_type": "execute_result"
    },
    {
     "data": {
      "image/png": "[encoded data removed]",
      "text/plain": [
       "<Figure size 864x432 with 1 Axes>"
      ]
     },
     "metadata": {
      "needs_background": "light"
     },
     "output_type": "display_data"
    }
   ],
   "source": [
    "fig_dims = (12, 6)\n",
    "fig, ax = plt.subplots(figsize=fig_dims)\n",
    "ax = sns.barplot(x=country_frequency.index, y=\"ConvertedCompMean\", data=country_frequency)\n",
    "plt.title('Compensation Mean of top 10 Countries')\n",
    "plt.ylabel('Converted Compensation Mean in USD')"
   ]
  },
  {
   "cell_type": "markdown",
   "metadata": {},
   "source": [
    "Now, let's do a boxplot like the previous one, but for some of the top countries."
   ]
  },
  {
   "cell_type": "code",
   "execution_count": 45,
   "metadata": {},
   "outputs": [
    {
     "data": {
      "text/plain": [
       "Text(0.5, 1.0, 'Brazil - Organization Size x Compensation in USD')"
      ]
     },
     "execution_count": 45,
     "metadata": {},
     "output_type": "execute_result"
    },
    {
     "data": {
      "image/png": "[encoded data removed]",
      "text/plain": [
       "<Figure size 576x576 with 1 Axes>"
      ]
     },
     "metadata": {
      "needs_background": "light"
     },
     "output_type": "display_data"
    },
    {
     "data": {
      "image/png": "[encoded data removed]",
      "text/plain": [
       "<Figure size 576x576 with 1 Axes>"
      ]
     },
     "metadata": {
      "needs_background": "light"
     },
     "output_type": "display_data"
    },
    {
     "data": {
      "image/png": "[encoded data removed]",
      "text/plain": [
       "<Figure size 576x576 with 1 Axes>"
      ]
     },
     "metadata": {
      "needs_background": "light"
     },
     "output_type": "display_data"
    },
    {
     "data": {
      "image/png": "[encoded data removed]",
      "text/plain": [
       "<Figure size 576x576 with 1 Axes>"
      ]
     },
     "metadata": {
      "needs_background": "light"
     },
     "output_type": "display_data"
    },
    {
     "data": {
      "image/png": "[encoded data removed]",
      "text/plain": [
       "<Figure size 576x576 with 1 Axes>"
      ]
     },
     "metadata": {
      "needs_background": "light"
     },
     "output_type": "display_data"
    }
   ],
   "source": [
    "fig_dims = (8, 8)\n",
    "fig, ax = plt.subplots(figsize=fig_dims)\n",
    "ax = sns.boxplot(x=\"ConvertedComp\", y=\"OrgSize\", order=[\n",
    "    'Just me - I am a freelancer, sole proprietor, etc.','2 to 9 employees','10 to 19 employees',\n",
    "    '20 to 99 employees','100 to 499 employees','500 to 999 employees','1,000 to 4,999 employees',\n",
    "    '5,000 to 9,999 employees','10,000 or more employees'], data=q2[q2.Country == 'United States'])\n",
    "plt.title('United States - Organization Size x Compensation in USD')\n",
    "\n",
    "fig_dims = (8, 8)\n",
    "fig, ax = plt.subplots(figsize=fig_dims)\n",
    "ax = sns.boxplot(x=\"ConvertedComp\", y=\"OrgSize\", order=[\n",
    "    'Just me - I am a freelancer, sole proprietor, etc.','2 to 9 employees','10 to 19 employees',\n",
    "    '20 to 99 employees','100 to 499 employees','500 to 999 employees','1,000 to 4,999 employees',\n",
    "    '5,000 to 9,999 employees','10,000 or more employees'], data=q2[q2.Country == 'India'])\n",
    "plt.title('India - Organization Size x Compensation in USD')\n",
    "\n",
    "fig_dims = (8, 8)\n",
    "fig, ax = plt.subplots(figsize=fig_dims)\n",
    "ax = sns.boxplot(x=\"ConvertedComp\", y=\"OrgSize\", order=[\n",
    "    'Just me - I am a freelancer, sole proprietor, etc.','2 to 9 employees','10 to 19 employees',\n",
    "    '20 to 99 employees','100 to 499 employees','500 to 999 employees','1,000 to 4,999 employees',\n",
    "    '5,000 to 9,999 employees','10,000 or more employees'], data=q2[q2.Country == 'United Kingdom'])\n",
    "plt.title('United Kingdom - Organization Size x Compensation in USD')\n",
    "\n",
    "fig_dims = (8, 8)\n",
    "fig, ax = plt.subplots(figsize=fig_dims)\n",
    "ax = sns.boxplot(x=\"ConvertedComp\", y=\"OrgSize\", order=[\n",
    "    'Just me - I am a freelancer, sole proprietor, etc.','2 to 9 employees','10 to 19 employees',\n",
    "    '20 to 99 employees','100 to 499 employees','500 to 999 employees','1,000 to 4,999 employees',\n",
    "    '5,000 to 9,999 employees','10,000 or more employees'], data=q2[q2.Country == 'Germany'])\n",
    "plt.title('Germany - Organization Size x Compensation in USD')\n",
    "\n",
    "fig_dims = (8, 8)\n",
    "fig, ax = plt.subplots(figsize=fig_dims)\n",
    "ax = sns.boxplot(x=\"ConvertedComp\", y=\"OrgSize\", order=[\n",
    "    'Just me - I am a freelancer, sole proprietor, etc.','2 to 9 employees','10 to 19 employees',\n",
    "    '20 to 99 employees','100 to 499 employees','500 to 999 employees','1,000 to 4,999 employees',\n",
    "    '5,000 to 9,999 employees','10,000 or more employees'], data=q2[q2.Country == 'Brazil'])\n",
    "plt.title('Brazil - Organization Size x Compensation in USD')\n"
   ]
  },
  {
   "cell_type": "markdown",
   "metadata": {},
   "source": [
    "As we can see, the trend continues on each country analyzed. Trending higher compensations on larger organizations, but different, higher median/higher interquartile range for sole proprietor/freelancer."
   ]
  },
  {
   "cell_type": "code",
   "execution_count": 46,
   "metadata": {},
   "outputs": [
    {
     "data": {
      "text/plain": [
       "array(['Slightly satisfied', 'Very dissatisfied', nan,\n",
       "       'Slightly dissatisfied', 'Very satisfied',\n",
       "       'Neither satisfied nor dissatisfied'], dtype=object)"
      ]
     },
     "execution_count": 46,
     "metadata": {},
     "output_type": "execute_result"
    }
   ],
   "source": [
    "data.JobSat.unique()"
   ]
  },
  {
   "cell_type": "markdown",
   "metadata": {},
   "source": [
    "# 3. Question B: \"Job satisfaction equals bigger salary?\""
   ]
  },
  {
   "cell_type": "markdown",
   "metadata": {},
   "source": [
    "Having learned from the previous question's analysis that Country makes a huge difference on Compensation. I will divide each ConvertedComp value by the median of each Country's compensation as a way to account for this, as a high salary in India or Brazil is a low salary in the US, UK, Germany, when converted, although life cost is dramatically lower.\n",
    "\n",
    "Once again we first will evaluate the percentage of null values."
   ]
  },
  {
   "cell_type": "code",
   "execution_count": 66,
   "metadata": {},
   "outputs": [
    {
     "data": {
      "text/html": [
       "<style  type=\"text/css\" >\n",
       "    #T_58644d36_2124_11ec_b6d8_54e1ad0c963frow0_col0 {\n",
       "            width:  10em;\n",
       "             height:  80%;\n",
       "            background:  linear-gradient(90deg,#d65f5f 64.4%, transparent 64.4%);\n",
       "        }    #T_58644d36_2124_11ec_b6d8_54e1ad0c963frow1_col0 {\n",
       "            width:  10em;\n",
       "             height:  80%;\n",
       "            background:  linear-gradient(90deg,#d65f5f 100.0%, transparent 100.0%);\n",
       "        }    #T_58644d36_2124_11ec_b6d8_54e1ad0c963frow2_col0 {\n",
       "            width:  10em;\n",
       "             height:  80%;\n",
       "        }</style><table id=\"T_58644d36_2124_11ec_b6d8_54e1ad0c963f\" ><thead>    <tr>        <th class=\"blank level0\" ></th>        <th class=\"col_heading level0 col0\" >0</th>    </tr></thead><tbody>\n",
       "                <tr>\n",
       "                        <th id=\"T_58644d36_2124_11ec_b6d8_54e1ad0c963flevel0_row0\" class=\"row_heading level0 row0\" >JobSat</th>\n",
       "                        <td id=\"T_58644d36_2124_11ec_b6d8_54e1ad0c963frow0_col0\" class=\"data row0 col0\" >0.298894</td>\n",
       "            </tr>\n",
       "            <tr>\n",
       "                        <th id=\"T_58644d36_2124_11ec_b6d8_54e1ad0c963flevel0_row1\" class=\"row_heading level0 row1\" >ConvertedComp</th>\n",
       "                        <td id=\"T_58644d36_2124_11ec_b6d8_54e1ad0c963frow1_col0\" class=\"data row1 col0\" >0.460821</td>\n",
       "            </tr>\n",
       "            <tr>\n",
       "                        <th id=\"T_58644d36_2124_11ec_b6d8_54e1ad0c963flevel0_row2\" class=\"row_heading level0 row2\" >Country</th>\n",
       "                        <td id=\"T_58644d36_2124_11ec_b6d8_54e1ad0c963frow2_col0\" class=\"data row2 col0\" >0.006035</td>\n",
       "            </tr>\n",
       "    </tbody></table>"
      ],
      "text/plain": [
       "<pandas.io.formats.style.Styler at 0x17db3cb7dc8>"
      ]
     },
     "execution_count": 66,
     "metadata": {},
     "output_type": "execute_result"
    }
   ],
   "source": [
    "(data[['JobSat','ConvertedComp','Country']].isna().sum()/data.shape[0]).to_frame().style.bar()"
   ]
  },
  {
   "cell_type": "code",
   "execution_count": 67,
   "metadata": {},
   "outputs": [
    {
     "name": "stdout",
     "output_type": "stream",
     "text": [
      "The percentage of non missing values in these 3 columns is 46.2 percent.\n"
     ]
    }
   ],
   "source": [
    "remaining_data = 100*(data.shape[0] - data[['JobSat','ConvertedComp','Country']].dropna().shape[0])/data.shape[0]\n",
    "print('The percentage of non missing values in these 3 columns is {:.1f} percent.'.format(remaining_data))"
   ]
  },
  {
   "cell_type": "markdown",
   "metadata": {},
   "source": [
    "Since we still have 46.2% of the data, similarly to the previous question, I opted to drop the null values."
   ]
  },
  {
   "cell_type": "code",
   "execution_count": 80,
   "metadata": {},
   "outputs": [],
   "source": [
    "q3 = data[['JobSat','ConvertedComp','Country']].dropna()\n"
   ]
  },
  {
   "cell_type": "code",
   "execution_count": 70,
   "metadata": {},
   "outputs": [
    {
     "data": {
      "text/html": [
       "<div>\n",
       "<style scoped>\n",
       "    .dataframe tbody tr th:only-of-type {\n",
       "        vertical-align: middle;\n",
       "    }\n",
       "\n",
       "    .dataframe tbody tr th {\n",
       "        vertical-align: top;\n",
       "    }\n",
       "\n",
       "    .dataframe thead th {\n",
       "        text-align: right;\n",
       "    }\n",
       "</style>\n",
       "<table border=\"1\" class=\"dataframe\">\n",
       "  <thead>\n",
       "    <tr style=\"text-align: right;\">\n",
       "      <th></th>\n",
       "      <th>JobSat</th>\n",
       "      <th>ConvertedComp</th>\n",
       "      <th>Country</th>\n",
       "    </tr>\n",
       "  </thead>\n",
       "  <tbody>\n",
       "    <tr>\n",
       "      <th>7</th>\n",
       "      <td>Slightly dissatisfied</td>\n",
       "      <td>116000.0</td>\n",
       "      <td>United States</td>\n",
       "    </tr>\n",
       "    <tr>\n",
       "      <th>9</th>\n",
       "      <td>Very satisfied</td>\n",
       "      <td>32315.0</td>\n",
       "      <td>United Kingdom</td>\n",
       "    </tr>\n",
       "    <tr>\n",
       "      <th>10</th>\n",
       "      <td>Slightly dissatisfied</td>\n",
       "      <td>40070.0</td>\n",
       "      <td>United Kingdom</td>\n",
       "    </tr>\n",
       "    <tr>\n",
       "      <th>11</th>\n",
       "      <td>Very dissatisfied</td>\n",
       "      <td>14268.0</td>\n",
       "      <td>Spain</td>\n",
       "    </tr>\n",
       "    <tr>\n",
       "      <th>12</th>\n",
       "      <td>Very satisfied</td>\n",
       "      <td>38916.0</td>\n",
       "      <td>Netherlands</td>\n",
       "    </tr>\n",
       "    <tr>\n",
       "      <th>13</th>\n",
       "      <td>Slightly satisfied</td>\n",
       "      <td>66000.0</td>\n",
       "      <td>United States</td>\n",
       "    </tr>\n",
       "    <tr>\n",
       "      <th>15</th>\n",
       "      <td>Very satisfied</td>\n",
       "      <td>108576.0</td>\n",
       "      <td>United Kingdom</td>\n",
       "    </tr>\n",
       "    <tr>\n",
       "      <th>16</th>\n",
       "      <td>Slightly dissatisfied</td>\n",
       "      <td>79000.0</td>\n",
       "      <td>United States</td>\n",
       "    </tr>\n",
       "    <tr>\n",
       "      <th>17</th>\n",
       "      <td>Very satisfied</td>\n",
       "      <td>1260000.0</td>\n",
       "      <td>United States</td>\n",
       "    </tr>\n",
       "    <tr>\n",
       "      <th>18</th>\n",
       "      <td>Slightly dissatisfied</td>\n",
       "      <td>83400.0</td>\n",
       "      <td>United States</td>\n",
       "    </tr>\n",
       "  </tbody>\n",
       "</table>\n",
       "</div>"
      ],
      "text/plain": [
       "                   JobSat  ConvertedComp         Country\n",
       "7   Slightly dissatisfied       116000.0   United States\n",
       "9          Very satisfied        32315.0  United Kingdom\n",
       "10  Slightly dissatisfied        40070.0  United Kingdom\n",
       "11      Very dissatisfied        14268.0           Spain\n",
       "12         Very satisfied        38916.0     Netherlands\n",
       "13     Slightly satisfied        66000.0   United States\n",
       "15         Very satisfied       108576.0  United Kingdom\n",
       "16  Slightly dissatisfied        79000.0   United States\n",
       "17         Very satisfied      1260000.0   United States\n",
       "18  Slightly dissatisfied        83400.0   United States"
      ]
     },
     "execution_count": 70,
     "metadata": {},
     "output_type": "execute_result"
    }
   ],
   "source": [
    "q3.head(10)"
   ]
  },
  {
   "cell_type": "markdown",
   "metadata": {},
   "source": [
    "Now, I will create a DataFrame with the converted average and median compensation per country."
   ]
  },
  {
   "cell_type": "code",
   "execution_count": 72,
   "metadata": {},
   "outputs": [
    {
     "data": {
      "text/html": [
       "<div>\n",
       "<style scoped>\n",
       "    .dataframe tbody tr th:only-of-type {\n",
       "        vertical-align: middle;\n",
       "    }\n",
       "\n",
       "    .dataframe tbody tr th {\n",
       "        vertical-align: top;\n",
       "    }\n",
       "\n",
       "    .dataframe thead th {\n",
       "        text-align: right;\n",
       "    }\n",
       "</style>\n",
       "<table border=\"1\" class=\"dataframe\">\n",
       "  <thead>\n",
       "    <tr style=\"text-align: right;\">\n",
       "      <th></th>\n",
       "      <th>ConvertedComp</th>\n",
       "    </tr>\n",
       "    <tr>\n",
       "      <th>Country</th>\n",
       "      <th></th>\n",
       "    </tr>\n",
       "  </thead>\n",
       "  <tbody>\n",
       "    <tr>\n",
       "      <th>Afghanistan</th>\n",
       "      <td>148290.125000</td>\n",
       "    </tr>\n",
       "    <tr>\n",
       "      <th>Albania</th>\n",
       "      <td>25611.000000</td>\n",
       "    </tr>\n",
       "    <tr>\n",
       "      <th>Algeria</th>\n",
       "      <td>10362.812500</td>\n",
       "    </tr>\n",
       "    <tr>\n",
       "      <th>Andorra</th>\n",
       "      <td>88640.000000</td>\n",
       "    </tr>\n",
       "    <tr>\n",
       "      <th>Angola</th>\n",
       "      <td>5292.000000</td>\n",
       "    </tr>\n",
       "    <tr>\n",
       "      <th>...</th>\n",
       "      <td>...</td>\n",
       "    </tr>\n",
       "    <tr>\n",
       "      <th>Venezuela, Bolivarian Republic of...</th>\n",
       "      <td>6280.611111</td>\n",
       "    </tr>\n",
       "    <tr>\n",
       "      <th>Viet Nam</th>\n",
       "      <td>28342.605769</td>\n",
       "    </tr>\n",
       "    <tr>\n",
       "      <th>Yemen</th>\n",
       "      <td>36000.000000</td>\n",
       "    </tr>\n",
       "    <tr>\n",
       "      <th>Zambia</th>\n",
       "      <td>17506.400000</td>\n",
       "    </tr>\n",
       "    <tr>\n",
       "      <th>Zimbabwe</th>\n",
       "      <td>26338.181818</td>\n",
       "    </tr>\n",
       "  </tbody>\n",
       "</table>\n",
       "<p>159 rows × 1 columns</p>\n",
       "</div>"
      ],
      "text/plain": [
       "                                      ConvertedComp\n",
       "Country                                            \n",
       "Afghanistan                           148290.125000\n",
       "Albania                                25611.000000\n",
       "Algeria                                10362.812500\n",
       "Andorra                                88640.000000\n",
       "Angola                                  5292.000000\n",
       "...                                             ...\n",
       "Venezuela, Bolivarian Republic of...    6280.611111\n",
       "Viet Nam                               28342.605769\n",
       "Yemen                                  36000.000000\n",
       "Zambia                                 17506.400000\n",
       "Zimbabwe                               26338.181818\n",
       "\n",
       "[159 rows x 1 columns]"
      ]
     },
     "execution_count": 72,
     "metadata": {},
     "output_type": "execute_result"
    }
   ],
   "source": [
    "compensation_mean_per_country = q3.groupby('Country')['ConvertedComp'].mean().to_frame()\n",
    "compensation_mean_per_country"
   ]
  },
  {
   "cell_type": "code",
   "execution_count": 73,
   "metadata": {},
   "outputs": [
    {
     "data": {
      "text/html": [
       "<div>\n",
       "<style scoped>\n",
       "    .dataframe tbody tr th:only-of-type {\n",
       "        vertical-align: middle;\n",
       "    }\n",
       "\n",
       "    .dataframe tbody tr th {\n",
       "        vertical-align: top;\n",
       "    }\n",
       "\n",
       "    .dataframe thead th {\n",
       "        text-align: right;\n",
       "    }\n",
       "</style>\n",
       "<table border=\"1\" class=\"dataframe\">\n",
       "  <thead>\n",
       "    <tr style=\"text-align: right;\">\n",
       "      <th></th>\n",
       "      <th>ConvertedComp</th>\n",
       "    </tr>\n",
       "    <tr>\n",
       "      <th>Country</th>\n",
       "      <th></th>\n",
       "    </tr>\n",
       "  </thead>\n",
       "  <tbody>\n",
       "    <tr>\n",
       "      <th>Afghanistan</th>\n",
       "      <td>15163.5</td>\n",
       "    </tr>\n",
       "    <tr>\n",
       "      <th>Albania</th>\n",
       "      <td>15900.0</td>\n",
       "    </tr>\n",
       "    <tr>\n",
       "      <th>Algeria</th>\n",
       "      <td>9432.0</td>\n",
       "    </tr>\n",
       "    <tr>\n",
       "      <th>Andorra</th>\n",
       "      <td>88640.0</td>\n",
       "    </tr>\n",
       "    <tr>\n",
       "      <th>Angola</th>\n",
       "      <td>5292.0</td>\n",
       "    </tr>\n",
       "    <tr>\n",
       "      <th>...</th>\n",
       "      <td>...</td>\n",
       "    </tr>\n",
       "    <tr>\n",
       "      <th>Venezuela, Bolivarian Republic of...</th>\n",
       "      <td>3600.0</td>\n",
       "    </tr>\n",
       "    <tr>\n",
       "      <th>Viet Nam</th>\n",
       "      <td>10344.0</td>\n",
       "    </tr>\n",
       "    <tr>\n",
       "      <th>Yemen</th>\n",
       "      <td>36000.0</td>\n",
       "    </tr>\n",
       "    <tr>\n",
       "      <th>Zambia</th>\n",
       "      <td>5452.0</td>\n",
       "    </tr>\n",
       "    <tr>\n",
       "      <th>Zimbabwe</th>\n",
       "      <td>7200.0</td>\n",
       "    </tr>\n",
       "  </tbody>\n",
       "</table>\n",
       "<p>159 rows × 1 columns</p>\n",
       "</div>"
      ],
      "text/plain": [
       "                                      ConvertedComp\n",
       "Country                                            \n",
       "Afghanistan                                 15163.5\n",
       "Albania                                     15900.0\n",
       "Algeria                                      9432.0\n",
       "Andorra                                     88640.0\n",
       "Angola                                       5292.0\n",
       "...                                             ...\n",
       "Venezuela, Bolivarian Republic of...         3600.0\n",
       "Viet Nam                                    10344.0\n",
       "Yemen                                       36000.0\n",
       "Zambia                                       5452.0\n",
       "Zimbabwe                                     7200.0\n",
       "\n",
       "[159 rows x 1 columns]"
      ]
     },
     "execution_count": 73,
     "metadata": {},
     "output_type": "execute_result"
    }
   ],
   "source": [
    "compensation_median_per_country = q3.groupby('Country')['ConvertedComp'].median().to_frame()\n",
    "compensation_median_per_country"
   ]
  },
  {
   "cell_type": "markdown",
   "metadata": {},
   "source": [
    "It is general knowledge that the median is more robust to outliers, and as we can see in the data above, the median is sometimes half or a third of the mean. So, I decided to create a weighted compensation, where I divide the compensation by the country's median.\n",
    "\n",
    "To add this value in a column of the dataframe, I created the function below."
   ]
  },
  {
   "cell_type": "code",
   "execution_count": 83,
   "metadata": {},
   "outputs": [],
   "source": [
    "\n",
    "def get_country_median(country):\n",
    "    #function created to get the median of Converted Compensation of the respective row's 'Country' value.\n",
    "    #this will be used to create a column of Median value by Country.\n",
    "    return q3.groupby('Country')['ConvertedComp'].median().to_frame().loc[country].values\n",
    "\n",
    "\n",
    "q3['Median'] = get_country_median(q3.Country)"
   ]
  },
  {
   "cell_type": "code",
   "execution_count": 84,
   "metadata": {},
   "outputs": [],
   "source": [
    "q3['Weighted_Comp'] = q3['ConvertedComp']/q3['Median']"
   ]
  },
  {
   "cell_type": "code",
   "execution_count": 77,
   "metadata": {},
   "outputs": [
    {
     "data": {
      "text/plain": [
       "array(['Slightly dissatisfied', 'Very satisfied', 'Very dissatisfied',\n",
       "       'Slightly satisfied', 'Neither satisfied nor dissatisfied'],\n",
       "      dtype=object)"
      ]
     },
     "execution_count": 77,
     "metadata": {},
     "output_type": "execute_result"
    }
   ],
   "source": [
    "q3.JobSat.unique()"
   ]
  },
  {
   "cell_type": "code",
   "execution_count": 78,
   "metadata": {},
   "outputs": [
    {
     "data": {
      "text/plain": [
       "Text(0.5, 1.0, 'Job Satisfaction x Compensation in USD')"
      ]
     },
     "execution_count": 78,
     "metadata": {},
     "output_type": "execute_result"
    },
    {
     "data": {
      "image/png": "[encoded data removed]",
      "text/plain": [
       "<Figure size 576x576 with 1 Axes>"
      ]
     },
     "metadata": {
      "needs_background": "light"
     },
     "output_type": "display_data"
    }
   ],
   "source": [
    "fig_dims = (8, 8)\n",
    "fig, ax = plt.subplots(figsize=fig_dims)\n",
    "ax = sns.boxplot(x=\"Weighted_Comp\", y=\"JobSat\", order=['Very satisfied', 'Slightly satisfied',\n",
    "        'Neither satisfied nor dissatisfied','Slightly dissatisfied',  'Very dissatisfied'\n",
    "        ], whis=10, data=q3)\n",
    "plt.title('Job Satisfaction x Compensation in USD')"
   ]
  },
  {
   "cell_type": "markdown",
   "metadata": {},
   "source": [
    "Since the number of outliers (values above 1.5 * interquartile range) is significant, it worsens the visualization power of boxplots. To solve it, I will disable the outliers in the next graph."
   ]
  },
  {
   "cell_type": "code",
   "execution_count": 85,
   "metadata": {},
   "outputs": [
    {
     "data": {
      "image/png": "[encoded data removed]",
      "text/plain": [
       "<Figure size 576x576 with 1 Axes>"
      ]
     },
     "metadata": {
      "needs_background": "light"
     },
     "output_type": "display_data"
    }
   ],
   "source": [
    "fig_dims = (8, 8)\n",
    "fig, ax = plt.subplots(figsize=fig_dims)\n",
    "ax = sns.boxplot(x=\"Weighted_Comp\", y=\"JobSat\", order=['Very satisfied', 'Slightly satisfied',\n",
    "        'Neither satisfied nor dissatisfied','Slightly dissatisfied',  'Very dissatisfied'\n",
    "        ], whis=1.5, data=q3,showfliers = False)\n",
    "plt.title('Job Satisfaction x Compensation weighted by Country Median - Outliers were hidden')\n",
    "plt.ylabel('Job Satisfaction')\n",
    "plt.xlabel('Adjusted Yearly Compensation')\n",
    "plt.savefig('test.png', dpi = 500)"
   ]
  },
  {
   "cell_type": "markdown",
   "metadata": {},
   "source": [
    "Interestingly enough, it seems like Job Satisfaction does not have an effect on compensation. "
   ]
  },
  {
   "cell_type": "markdown",
   "metadata": {},
   "source": [
    "## 4. Question C: \"What is the influence Job satisfaction and Job seeking factors into Job seeking status?\""
   ]
  },
  {
   "cell_type": "markdown",
   "metadata": {},
   "source": [
    "Given that Job Satisfaction does not seem to matter in terms of compensation, let's experiment, in each of the Job Satisfaction Categories, the distribuition of factors to find a new job and if a dissatisfied person is really looking for jobs more often than other categories.\n",
    "\n",
    "First, let's evaluate the prevalance of null values."
   ]
  },
  {
   "cell_type": "code",
   "execution_count": 87,
   "metadata": {},
   "outputs": [
    {
     "data": {
      "text/html": [
       "<style  type=\"text/css\" >\n",
       "    #T_62661ac2_2131_11ec_8968_54e1ad0c963frow0_col0 {\n",
       "            width:  10em;\n",
       "             height:  80%;\n",
       "            background:  linear-gradient(90deg,#d65f5f 36.4%, transparent 36.4%);\n",
       "        }    #T_62661ac2_2131_11ec_8968_54e1ad0c963frow1_col0 {\n",
       "            width:  10em;\n",
       "             height:  80%;\n",
       "            background:  linear-gradient(90deg,#d65f5f 100.0%, transparent 100.0%);\n",
       "        }    #T_62661ac2_2131_11ec_8968_54e1ad0c963frow2_col0 {\n",
       "            width:  10em;\n",
       "             height:  80%;\n",
       "        }</style><table id=\"T_62661ac2_2131_11ec_8968_54e1ad0c963f\" ><thead>    <tr>        <th class=\"blank level0\" ></th>        <th class=\"col_heading level0 col0\" >0</th>    </tr></thead><tbody>\n",
       "                <tr>\n",
       "                        <th id=\"T_62661ac2_2131_11ec_8968_54e1ad0c963flevel0_row0\" class=\"row_heading level0 row0\" >JobFactors</th>\n",
       "                        <td id=\"T_62661ac2_2131_11ec_8968_54e1ad0c963frow0_col0\" class=\"data row0 col0\" >0.234436</td>\n",
       "            </tr>\n",
       "            <tr>\n",
       "                        <th id=\"T_62661ac2_2131_11ec_8968_54e1ad0c963flevel0_row1\" class=\"row_heading level0 row1\" >JobSat</th>\n",
       "                        <td id=\"T_62661ac2_2131_11ec_8968_54e1ad0c963frow1_col0\" class=\"data row1 col0\" >0.298894</td>\n",
       "            </tr>\n",
       "            <tr>\n",
       "                        <th id=\"T_62661ac2_2131_11ec_8968_54e1ad0c963flevel0_row2\" class=\"row_heading level0 row2\" >JobSeek</th>\n",
       "                        <td id=\"T_62661ac2_2131_11ec_8968_54e1ad0c963frow2_col0\" class=\"data row2 col0\" >0.197546</td>\n",
       "            </tr>\n",
       "    </tbody></table>"
      ],
      "text/plain": [
       "<pandas.io.formats.style.Styler at 0x17db3607c48>"
      ]
     },
     "execution_count": 87,
     "metadata": {},
     "output_type": "execute_result"
    }
   ],
   "source": [
    "(data[['JobFactors',\n",
    "'JobSat',\n",
    "'JobSeek']].isna().sum()/data.shape[0]).to_frame().style.bar()"
   ]
  },
  {
   "cell_type": "code",
   "execution_count": 88,
   "metadata": {},
   "outputs": [
    {
     "name": "stdout",
     "output_type": "stream",
     "text": [
      "The percentage of non missing values in these 3 columns is 36.7 percent.\n"
     ]
    }
   ],
   "source": [
    "remaining_data = 100*(data.shape[0] - data[['JobFactors',\n",
    "'JobSat',\n",
    "'JobSeek']].dropna().shape[0])/data.shape[0]\n",
    "print('The percentage of non missing values in these 3 columns is {:.1f} percent.'.format(remaining_data))"
   ]
  },
  {
   "cell_type": "markdown",
   "metadata": {},
   "source": [
    "As we can see, 36.7 percent of the entire dataset will be lost. This is lower than what was used in the last two questions."
   ]
  },
  {
   "cell_type": "code",
   "execution_count": 90,
   "metadata": {},
   "outputs": [],
   "source": [
    "q4 = data[['JobFactors',\n",
    "'JobSat',\n",
    "'JobSeek'\n",
    "]].dropna()\n"
   ]
  },
  {
   "cell_type": "markdown",
   "metadata": {},
   "source": [
    "Since the Job Factors variable is a list of strings separated by semicolons, we can create dummy variables to be able to count the entries of each factor."
   ]
  },
  {
   "cell_type": "code",
   "execution_count": 91,
   "metadata": {},
   "outputs": [
    {
     "data": {
      "text/plain": [
       "0    Languages, frameworks, and other technologies ...\n",
       "3    Flex time or a flexible schedule;Office enviro...\n",
       "5    Diversity of the company or organization;Langu...\n",
       "7    Remote work options;Opportunities for professi...\n",
       "8    Diversity of the company or organization;Remot...\n",
       "Name: JobFactors, dtype: object"
      ]
     },
     "execution_count": 91,
     "metadata": {},
     "output_type": "execute_result"
    }
   ],
   "source": [
    "q4['JobFactors'].head()"
   ]
  },
  {
   "cell_type": "code",
   "execution_count": 93,
   "metadata": {},
   "outputs": [],
   "source": [
    "q4 = pd.concat([q4.drop('JobFactors', 1),q4['JobFactors'].str.get_dummies(sep=';')],1)\n",
    "\n"
   ]
  },
  {
   "cell_type": "markdown",
   "metadata": {},
   "source": [
    "Below we can see the different categories of 'JobFactors' as dummy variables."
   ]
  },
  {
   "cell_type": "code",
   "execution_count": 94,
   "metadata": {},
   "outputs": [
    {
     "data": {
      "text/html": [
       "<div>\n",
       "<style scoped>\n",
       "    .dataframe tbody tr th:only-of-type {\n",
       "        vertical-align: middle;\n",
       "    }\n",
       "\n",
       "    .dataframe tbody tr th {\n",
       "        vertical-align: top;\n",
       "    }\n",
       "\n",
       "    .dataframe thead th {\n",
       "        text-align: right;\n",
       "    }\n",
       "</style>\n",
       "<table border=\"1\" class=\"dataframe\">\n",
       "  <thead>\n",
       "    <tr style=\"text-align: right;\">\n",
       "      <th></th>\n",
       "      <th>JobSat</th>\n",
       "      <th>JobSeek</th>\n",
       "      <th>Diversity of the company or organization</th>\n",
       "      <th>Family friendliness</th>\n",
       "      <th>Financial performance or funding status of the company or organization</th>\n",
       "      <th>Flex time or a flexible schedule</th>\n",
       "      <th>How widely used or impactful my work output would be</th>\n",
       "      <th>Industry that I’d be working in</th>\n",
       "      <th>Languages, frameworks, and other technologies I’d be working with</th>\n",
       "      <th>Office environment or company culture</th>\n",
       "      <th>Opportunities for professional development</th>\n",
       "      <th>Remote work options</th>\n",
       "      <th>Specific department or team I’d be working on</th>\n",
       "    </tr>\n",
       "  </thead>\n",
       "  <tbody>\n",
       "    <tr>\n",
       "      <th>0</th>\n",
       "      <td>Slightly satisfied</td>\n",
       "      <td>I am not interested in new job opportunities</td>\n",
       "      <td>0</td>\n",
       "      <td>0</td>\n",
       "      <td>0</td>\n",
       "      <td>0</td>\n",
       "      <td>0</td>\n",
       "      <td>0</td>\n",
       "      <td>1</td>\n",
       "      <td>0</td>\n",
       "      <td>1</td>\n",
       "      <td>1</td>\n",
       "      <td>0</td>\n",
       "    </tr>\n",
       "    <tr>\n",
       "      <th>3</th>\n",
       "      <td>Slightly dissatisfied</td>\n",
       "      <td>I’m not actively looking, but I am open to new...</td>\n",
       "      <td>0</td>\n",
       "      <td>0</td>\n",
       "      <td>0</td>\n",
       "      <td>1</td>\n",
       "      <td>0</td>\n",
       "      <td>0</td>\n",
       "      <td>0</td>\n",
       "      <td>1</td>\n",
       "      <td>1</td>\n",
       "      <td>0</td>\n",
       "      <td>0</td>\n",
       "    </tr>\n",
       "    <tr>\n",
       "      <th>5</th>\n",
       "      <td>Slightly satisfied</td>\n",
       "      <td>I am not interested in new job opportunities</td>\n",
       "      <td>1</td>\n",
       "      <td>0</td>\n",
       "      <td>0</td>\n",
       "      <td>0</td>\n",
       "      <td>0</td>\n",
       "      <td>0</td>\n",
       "      <td>1</td>\n",
       "      <td>1</td>\n",
       "      <td>0</td>\n",
       "      <td>0</td>\n",
       "      <td>0</td>\n",
       "    </tr>\n",
       "    <tr>\n",
       "      <th>7</th>\n",
       "      <td>Slightly dissatisfied</td>\n",
       "      <td>I’m not actively looking, but I am open to new...</td>\n",
       "      <td>0</td>\n",
       "      <td>1</td>\n",
       "      <td>0</td>\n",
       "      <td>0</td>\n",
       "      <td>0</td>\n",
       "      <td>0</td>\n",
       "      <td>0</td>\n",
       "      <td>0</td>\n",
       "      <td>1</td>\n",
       "      <td>1</td>\n",
       "      <td>0</td>\n",
       "    </tr>\n",
       "    <tr>\n",
       "      <th>8</th>\n",
       "      <td>Very dissatisfied</td>\n",
       "      <td>I’m not actively looking, but I am open to new...</td>\n",
       "      <td>1</td>\n",
       "      <td>0</td>\n",
       "      <td>0</td>\n",
       "      <td>0</td>\n",
       "      <td>0</td>\n",
       "      <td>0</td>\n",
       "      <td>0</td>\n",
       "      <td>1</td>\n",
       "      <td>0</td>\n",
       "      <td>1</td>\n",
       "      <td>0</td>\n",
       "    </tr>\n",
       "  </tbody>\n",
       "</table>\n",
       "</div>"
      ],
      "text/plain": [
       "                  JobSat                                            JobSeek  \\\n",
       "0     Slightly satisfied       I am not interested in new job opportunities   \n",
       "3  Slightly dissatisfied  I’m not actively looking, but I am open to new...   \n",
       "5     Slightly satisfied       I am not interested in new job opportunities   \n",
       "7  Slightly dissatisfied  I’m not actively looking, but I am open to new...   \n",
       "8      Very dissatisfied  I’m not actively looking, but I am open to new...   \n",
       "\n",
       "   Diversity of the company or organization  Family friendliness  \\\n",
       "0                                         0                    0   \n",
       "3                                         0                    0   \n",
       "5                                         1                    0   \n",
       "7                                         0                    1   \n",
       "8                                         1                    0   \n",
       "\n",
       "   Financial performance or funding status of the company or organization  \\\n",
       "0                                                  0                        \n",
       "3                                                  0                        \n",
       "5                                                  0                        \n",
       "7                                                  0                        \n",
       "8                                                  0                        \n",
       "\n",
       "   Flex time or a flexible schedule  \\\n",
       "0                                 0   \n",
       "3                                 1   \n",
       "5                                 0   \n",
       "7                                 0   \n",
       "8                                 0   \n",
       "\n",
       "   How widely used or impactful my work output would be  \\\n",
       "0                                                  0      \n",
       "3                                                  0      \n",
       "5                                                  0      \n",
       "7                                                  0      \n",
       "8                                                  0      \n",
       "\n",
       "   Industry that I’d be working in  \\\n",
       "0                                0   \n",
       "3                                0   \n",
       "5                                0   \n",
       "7                                0   \n",
       "8                                0   \n",
       "\n",
       "   Languages, frameworks, and other technologies I’d be working with  \\\n",
       "0                                                  1                   \n",
       "3                                                  0                   \n",
       "5                                                  1                   \n",
       "7                                                  0                   \n",
       "8                                                  0                   \n",
       "\n",
       "   Office environment or company culture  \\\n",
       "0                                      0   \n",
       "3                                      1   \n",
       "5                                      1   \n",
       "7                                      0   \n",
       "8                                      1   \n",
       "\n",
       "   Opportunities for professional development  Remote work options  \\\n",
       "0                                           1                    1   \n",
       "3                                           1                    0   \n",
       "5                                           0                    0   \n",
       "7                                           1                    1   \n",
       "8                                           0                    1   \n",
       "\n",
       "   Specific department or team I’d be working on  \n",
       "0                                              0  \n",
       "3                                              0  \n",
       "5                                              0  \n",
       "7                                              0  \n",
       "8                                              0  "
      ]
     },
     "execution_count": 94,
     "metadata": {},
     "output_type": "execute_result"
    }
   ],
   "source": [
    "q4.head()"
   ]
  },
  {
   "cell_type": "markdown",
   "metadata": {},
   "source": [
    "Now that we created dummy variables, let's take a look at the other variables. Job Satisfaction is a categorical, \"likert-style\". \n",
    "Let's create a visualization of Job seek status and Job satisfaction"
   ]
  },
  {
   "cell_type": "code",
   "execution_count": 58,
   "metadata": {},
   "outputs": [
    {
     "data": {
      "text/plain": [
       "array(['Slightly satisfied', 'Slightly dissatisfied', 'Very dissatisfied',\n",
       "       'Very satisfied', 'Neither satisfied nor dissatisfied'],\n",
       "      dtype=object)"
      ]
     },
     "execution_count": 58,
     "metadata": {},
     "output_type": "execute_result"
    }
   ],
   "source": [
    "q4.JobSat.unique()"
   ]
  },
  {
   "cell_type": "code",
   "execution_count": 86,
   "metadata": {},
   "outputs": [
    {
     "name": "stdout",
     "output_type": "stream",
     "text": [
      "JobSeek                             I am actively looking for a job  \\\n",
      "JobSat                                                                \n",
      "Neither satisfied nor dissatisfied                         0.024857   \n",
      "Slightly dissatisfied                                      0.042293   \n",
      "Slightly satisfied                                         0.029142   \n",
      "Very dissatisfied                                          0.026424   \n",
      "Very satisfied                                             0.012906   \n",
      "\n",
      "JobSeek                             I am not interested in new job opportunities  \\\n",
      "JobSat                                                                             \n",
      "Neither satisfied nor dissatisfied                                      0.011583   \n",
      "Slightly dissatisfied                                                   0.011632   \n",
      "Slightly satisfied                                                      0.060024   \n",
      "Very dissatisfied                                                       0.019885   \n",
      "Very satisfied                                                          0.160552   \n",
      "\n",
      "JobSeek                             I’m not actively looking, but I am open to new opportunities  \n",
      "JobSat                                                                                            \n",
      "Neither satisfied nor dissatisfied                                           0.089337             \n",
      "Slightly dissatisfied                                                        0.107827             \n",
      "Slightly satisfied                                                           0.221776             \n",
      "Very dissatisfied                                                            0.034261             \n",
      "Very satisfied                                                               0.147500             \n"
     ]
    },
    {
     "data": {
      "text/plain": [
       "Text(0.5, 0, 'Job Satisfaction')"
      ]
     },
     "execution_count": 86,
     "metadata": {},
     "output_type": "execute_result"
    },
    {
     "data": {
      "image/png": "[encoded data removed]",
      "text/plain": [
       "<Figure size 1080x360 with 1 Axes>"
      ]
     },
     "metadata": {
      "needs_background": "light"
     },
     "output_type": "display_data"
    }
   ],
   "source": [
    "CrosstabResult=pd.crosstab(index=q4['JobSat'],columns=q4['JobSeek'],normalize='all')\n",
    "print(CrosstabResult)\n",
    "CrosstabResult = CrosstabResult.loc[['Very satisfied', 'Slightly satisfied',\n",
    "        'Neither satisfied nor dissatisfied','Slightly dissatisfied',  'Very dissatisfied'\n",
    "        ]] \n",
    "\n",
    "CrosstabResult.plot.bar(figsize=(15,5), rot=0)\n",
    "\n",
    "plt.title('Job Seek status x Job Satisfaction')\n",
    "plt.ylabel('Frequency - Job Seek status')\n",
    "plt.xlabel('Job Satisfaction')"
   ]
  },
  {
   "cell_type": "markdown",
   "metadata": {},
   "source": [
    "Here we can see that amongst those who responded the JobSeek status and JobSatisfaction questions, most are very satisfied or slightly satisfied with their jobs. \n",
    "Those who are very satisfied tend not to be interested on new opportunities, which is expected, but when we compare the neither satisfied nor dissatisfied, slightly dissatisfied and very dissatisfied, we notice that the profile is very similar between them, with a surprisingly higher percentage of \"not interested in new job opportunities\" in the very dissatisfied category. \n",
    "\n",
    "Now, let's see how the factors (each respondent picks 3 out of 11) \n"
   ]
  },
  {
   "cell_type": "code",
   "execution_count": 60,
   "metadata": {
    "scrolled": true
   },
   "outputs": [
    {
     "data": {
      "text/html": [
       "<div>\n",
       "<style scoped>\n",
       "    .dataframe tbody tr th:only-of-type {\n",
       "        vertical-align: middle;\n",
       "    }\n",
       "\n",
       "    .dataframe tbody tr th {\n",
       "        vertical-align: top;\n",
       "    }\n",
       "\n",
       "    .dataframe thead th {\n",
       "        text-align: right;\n",
       "    }\n",
       "</style>\n",
       "<table border=\"1\" class=\"dataframe\">\n",
       "  <thead>\n",
       "    <tr style=\"text-align: right;\">\n",
       "      <th></th>\n",
       "      <th>Diversity of the company or organization</th>\n",
       "      <th>Family friendliness</th>\n",
       "      <th>Financial performance or funding status of the company or organization</th>\n",
       "      <th>Flex time or a flexible schedule</th>\n",
       "      <th>How widely used or impactful my work output would be</th>\n",
       "      <th>Industry that I’d be working in</th>\n",
       "      <th>Languages, frameworks, and other technologies I’d be working with</th>\n",
       "      <th>Office environment or company culture</th>\n",
       "      <th>Opportunities for professional development</th>\n",
       "      <th>Remote work options</th>\n",
       "      <th>Specific department or team I’d be working on</th>\n",
       "    </tr>\n",
       "    <tr>\n",
       "      <th>JobSat</th>\n",
       "      <th></th>\n",
       "      <th></th>\n",
       "      <th></th>\n",
       "      <th></th>\n",
       "      <th></th>\n",
       "      <th></th>\n",
       "      <th></th>\n",
       "      <th></th>\n",
       "      <th></th>\n",
       "      <th></th>\n",
       "      <th></th>\n",
       "    </tr>\n",
       "  </thead>\n",
       "  <tbody>\n",
       "    <tr>\n",
       "      <th>Very satisfied</th>\n",
       "      <td>878</td>\n",
       "      <td>1690</td>\n",
       "      <td>1405</td>\n",
       "      <td>5904</td>\n",
       "      <td>2878</td>\n",
       "      <td>1894</td>\n",
       "      <td>6596</td>\n",
       "      <td>6406</td>\n",
       "      <td>5049</td>\n",
       "      <td>4357</td>\n",
       "      <td>1608</td>\n",
       "    </tr>\n",
       "    <tr>\n",
       "      <th>Slightly satisfied</th>\n",
       "      <td>811</td>\n",
       "      <td>1524</td>\n",
       "      <td>1495</td>\n",
       "      <td>5850</td>\n",
       "      <td>2498</td>\n",
       "      <td>1936</td>\n",
       "      <td>6770</td>\n",
       "      <td>5677</td>\n",
       "      <td>5186</td>\n",
       "      <td>4321</td>\n",
       "      <td>1454</td>\n",
       "    </tr>\n",
       "    <tr>\n",
       "      <th>Neither satisfied nor dissatisfied</th>\n",
       "      <td>339</td>\n",
       "      <td>611</td>\n",
       "      <td>742</td>\n",
       "      <td>2336</td>\n",
       "      <td>927</td>\n",
       "      <td>710</td>\n",
       "      <td>2683</td>\n",
       "      <td>2123</td>\n",
       "      <td>2149</td>\n",
       "      <td>1904</td>\n",
       "      <td>514</td>\n",
       "    </tr>\n",
       "    <tr>\n",
       "      <th>Slightly dissatisfied</th>\n",
       "      <td>438</td>\n",
       "      <td>708</td>\n",
       "      <td>782</td>\n",
       "      <td>2903</td>\n",
       "      <td>1376</td>\n",
       "      <td>883</td>\n",
       "      <td>3545</td>\n",
       "      <td>2871</td>\n",
       "      <td>2856</td>\n",
       "      <td>2415</td>\n",
       "      <td>722</td>\n",
       "    </tr>\n",
       "    <tr>\n",
       "      <th>Very dissatisfied</th>\n",
       "      <td>229</td>\n",
       "      <td>428</td>\n",
       "      <td>416</td>\n",
       "      <td>1393</td>\n",
       "      <td>624</td>\n",
       "      <td>440</td>\n",
       "      <td>1694</td>\n",
       "      <td>1451</td>\n",
       "      <td>1361</td>\n",
       "      <td>1187</td>\n",
       "      <td>367</td>\n",
       "    </tr>\n",
       "  </tbody>\n",
       "</table>\n",
       "</div>"
      ],
      "text/plain": [
       "                                    Diversity of the company or organization  \\\n",
       "JobSat                                                                         \n",
       "Very satisfied                                                           878   \n",
       "Slightly satisfied                                                       811   \n",
       "Neither satisfied nor dissatisfied                                       339   \n",
       "Slightly dissatisfied                                                    438   \n",
       "Very dissatisfied                                                        229   \n",
       "\n",
       "                                    Family friendliness  \\\n",
       "JobSat                                                    \n",
       "Very satisfied                                     1690   \n",
       "Slightly satisfied                                 1524   \n",
       "Neither satisfied nor dissatisfied                  611   \n",
       "Slightly dissatisfied                               708   \n",
       "Very dissatisfied                                   428   \n",
       "\n",
       "                                    Financial performance or funding status of the company or organization  \\\n",
       "JobSat                                                                                                       \n",
       "Very satisfied                                                                   1405                        \n",
       "Slightly satisfied                                                               1495                        \n",
       "Neither satisfied nor dissatisfied                                                742                        \n",
       "Slightly dissatisfied                                                             782                        \n",
       "Very dissatisfied                                                                 416                        \n",
       "\n",
       "                                    Flex time or a flexible schedule  \\\n",
       "JobSat                                                                 \n",
       "Very satisfied                                                  5904   \n",
       "Slightly satisfied                                              5850   \n",
       "Neither satisfied nor dissatisfied                              2336   \n",
       "Slightly dissatisfied                                           2903   \n",
       "Very dissatisfied                                               1393   \n",
       "\n",
       "                                    How widely used or impactful my work output would be  \\\n",
       "JobSat                                                                                     \n",
       "Very satisfied                                                                   2878      \n",
       "Slightly satisfied                                                               2498      \n",
       "Neither satisfied nor dissatisfied                                                927      \n",
       "Slightly dissatisfied                                                            1376      \n",
       "Very dissatisfied                                                                 624      \n",
       "\n",
       "                                    Industry that I’d be working in  \\\n",
       "JobSat                                                                \n",
       "Very satisfied                                                 1894   \n",
       "Slightly satisfied                                             1936   \n",
       "Neither satisfied nor dissatisfied                              710   \n",
       "Slightly dissatisfied                                           883   \n",
       "Very dissatisfied                                               440   \n",
       "\n",
       "                                    Languages, frameworks, and other technologies I’d be working with  \\\n",
       "JobSat                                                                                                  \n",
       "Very satisfied                                                                   6596                   \n",
       "Slightly satisfied                                                               6770                   \n",
       "Neither satisfied nor dissatisfied                                               2683                   \n",
       "Slightly dissatisfied                                                            3545                   \n",
       "Very dissatisfied                                                                1694                   \n",
       "\n",
       "                                    Office environment or company culture  \\\n",
       "JobSat                                                                      \n",
       "Very satisfied                                                       6406   \n",
       "Slightly satisfied                                                   5677   \n",
       "Neither satisfied nor dissatisfied                                   2123   \n",
       "Slightly dissatisfied                                                2871   \n",
       "Very dissatisfied                                                    1451   \n",
       "\n",
       "                                    Opportunities for professional development  \\\n",
       "JobSat                                                                           \n",
       "Very satisfied                                                            5049   \n",
       "Slightly satisfied                                                        5186   \n",
       "Neither satisfied nor dissatisfied                                        2149   \n",
       "Slightly dissatisfied                                                     2856   \n",
       "Very dissatisfied                                                         1361   \n",
       "\n",
       "                                    Remote work options  \\\n",
       "JobSat                                                    \n",
       "Very satisfied                                     4357   \n",
       "Slightly satisfied                                 4321   \n",
       "Neither satisfied nor dissatisfied                 1904   \n",
       "Slightly dissatisfied                              2415   \n",
       "Very dissatisfied                                  1187   \n",
       "\n",
       "                                    Specific department or team I’d be working on  \n",
       "JobSat                                                                             \n",
       "Very satisfied                                                               1608  \n",
       "Slightly satisfied                                                           1454  \n",
       "Neither satisfied nor dissatisfied                                            514  \n",
       "Slightly dissatisfied                                                         722  \n",
       "Very dissatisfied                                                             367  "
      ]
     },
     "execution_count": 60,
     "metadata": {},
     "output_type": "execute_result"
    }
   ],
   "source": [
    "jobfactors_jobsatisfaction = q4.groupby('JobSat')[['Diversity of the company or organization',\n",
    "       'Family friendliness',\n",
    "       'Financial performance or funding status of the company or organization',\n",
    "       'Flex time or a flexible schedule',\n",
    "       'How widely used or impactful my work output would be',\n",
    "       'Industry that I’d be working in',\n",
    "       'Languages, frameworks, and other technologies I’d be working with',\n",
    "       'Office environment or company culture',\n",
    "       'Opportunities for professional development', 'Remote work options',\n",
    "       'Specific department or team I’d be working on']].sum()\n",
    "jobfactors_jobsatisfaction = jobfactors_jobsatisfaction.loc[['Very satisfied', 'Slightly satisfied',\n",
    "        'Neither satisfied nor dissatisfied','Slightly dissatisfied',  'Very dissatisfied'\n",
    "        ]] \n",
    "jobfactors_jobsatisfaction"
   ]
  },
  {
   "cell_type": "markdown",
   "metadata": {},
   "source": [
    "now, let's divide the values of each Job Satisfaction category by the category's total."
   ]
  },
  {
   "cell_type": "code",
   "execution_count": 61,
   "metadata": {},
   "outputs": [
    {
     "data": {
      "text/html": [
       "<div>\n",
       "<style scoped>\n",
       "    .dataframe tbody tr th:only-of-type {\n",
       "        vertical-align: middle;\n",
       "    }\n",
       "\n",
       "    .dataframe tbody tr th {\n",
       "        vertical-align: top;\n",
       "    }\n",
       "\n",
       "    .dataframe thead th {\n",
       "        text-align: right;\n",
       "    }\n",
       "</style>\n",
       "<table border=\"1\" class=\"dataframe\">\n",
       "  <thead>\n",
       "    <tr style=\"text-align: right;\">\n",
       "      <th></th>\n",
       "      <th>Diversity of the company or organization</th>\n",
       "      <th>Family friendliness</th>\n",
       "      <th>Financial performance or funding status of the company or organization</th>\n",
       "      <th>Flex time or a flexible schedule</th>\n",
       "      <th>How widely used or impactful my work output would be</th>\n",
       "      <th>Industry that I’d be working in</th>\n",
       "      <th>Languages, frameworks, and other technologies I’d be working with</th>\n",
       "      <th>Office environment or company culture</th>\n",
       "      <th>Opportunities for professional development</th>\n",
       "      <th>Remote work options</th>\n",
       "      <th>Specific department or team I’d be working on</th>\n",
       "    </tr>\n",
       "    <tr>\n",
       "      <th>JobSat</th>\n",
       "      <th></th>\n",
       "      <th></th>\n",
       "      <th></th>\n",
       "      <th></th>\n",
       "      <th></th>\n",
       "      <th></th>\n",
       "      <th></th>\n",
       "      <th></th>\n",
       "      <th></th>\n",
       "      <th></th>\n",
       "      <th></th>\n",
       "    </tr>\n",
       "  </thead>\n",
       "  <tbody>\n",
       "    <tr>\n",
       "      <th>Very satisfied</th>\n",
       "      <td>0.022708</td>\n",
       "      <td>0.043709</td>\n",
       "      <td>0.036338</td>\n",
       "      <td>0.152696</td>\n",
       "      <td>0.074434</td>\n",
       "      <td>0.048985</td>\n",
       "      <td>0.170594</td>\n",
       "      <td>0.165680</td>\n",
       "      <td>0.130583</td>\n",
       "      <td>0.112686</td>\n",
       "      <td>0.041588</td>\n",
       "    </tr>\n",
       "    <tr>\n",
       "      <th>Slightly satisfied</th>\n",
       "      <td>0.021614</td>\n",
       "      <td>0.040616</td>\n",
       "      <td>0.039843</td>\n",
       "      <td>0.155909</td>\n",
       "      <td>0.066574</td>\n",
       "      <td>0.051596</td>\n",
       "      <td>0.180427</td>\n",
       "      <td>0.151298</td>\n",
       "      <td>0.138212</td>\n",
       "      <td>0.115159</td>\n",
       "      <td>0.038751</td>\n",
       "    </tr>\n",
       "    <tr>\n",
       "      <th>Neither satisfied nor dissatisfied</th>\n",
       "      <td>0.022543</td>\n",
       "      <td>0.040630</td>\n",
       "      <td>0.049342</td>\n",
       "      <td>0.155340</td>\n",
       "      <td>0.061644</td>\n",
       "      <td>0.047214</td>\n",
       "      <td>0.178415</td>\n",
       "      <td>0.141176</td>\n",
       "      <td>0.142905</td>\n",
       "      <td>0.126613</td>\n",
       "      <td>0.034180</td>\n",
       "    </tr>\n",
       "    <tr>\n",
       "      <th>Slightly dissatisfied</th>\n",
       "      <td>0.022463</td>\n",
       "      <td>0.036310</td>\n",
       "      <td>0.040105</td>\n",
       "      <td>0.148879</td>\n",
       "      <td>0.070568</td>\n",
       "      <td>0.045284</td>\n",
       "      <td>0.181804</td>\n",
       "      <td>0.147238</td>\n",
       "      <td>0.146469</td>\n",
       "      <td>0.123853</td>\n",
       "      <td>0.037028</td>\n",
       "    </tr>\n",
       "    <tr>\n",
       "      <th>Very dissatisfied</th>\n",
       "      <td>0.023879</td>\n",
       "      <td>0.044630</td>\n",
       "      <td>0.043379</td>\n",
       "      <td>0.145255</td>\n",
       "      <td>0.065068</td>\n",
       "      <td>0.045881</td>\n",
       "      <td>0.176642</td>\n",
       "      <td>0.151303</td>\n",
       "      <td>0.141919</td>\n",
       "      <td>0.123775</td>\n",
       "      <td>0.038269</td>\n",
       "    </tr>\n",
       "  </tbody>\n",
       "</table>\n",
       "</div>"
      ],
      "text/plain": [
       "                                    Diversity of the company or organization  \\\n",
       "JobSat                                                                         \n",
       "Very satisfied                                                      0.022708   \n",
       "Slightly satisfied                                                  0.021614   \n",
       "Neither satisfied nor dissatisfied                                  0.022543   \n",
       "Slightly dissatisfied                                               0.022463   \n",
       "Very dissatisfied                                                   0.023879   \n",
       "\n",
       "                                    Family friendliness  \\\n",
       "JobSat                                                    \n",
       "Very satisfied                                 0.043709   \n",
       "Slightly satisfied                             0.040616   \n",
       "Neither satisfied nor dissatisfied             0.040630   \n",
       "Slightly dissatisfied                          0.036310   \n",
       "Very dissatisfied                              0.044630   \n",
       "\n",
       "                                    Financial performance or funding status of the company or organization  \\\n",
       "JobSat                                                                                                       \n",
       "Very satisfied                                                               0.036338                        \n",
       "Slightly satisfied                                                           0.039843                        \n",
       "Neither satisfied nor dissatisfied                                           0.049342                        \n",
       "Slightly dissatisfied                                                        0.040105                        \n",
       "Very dissatisfied                                                            0.043379                        \n",
       "\n",
       "                                    Flex time or a flexible schedule  \\\n",
       "JobSat                                                                 \n",
       "Very satisfied                                              0.152696   \n",
       "Slightly satisfied                                          0.155909   \n",
       "Neither satisfied nor dissatisfied                          0.155340   \n",
       "Slightly dissatisfied                                       0.148879   \n",
       "Very dissatisfied                                           0.145255   \n",
       "\n",
       "                                    How widely used or impactful my work output would be  \\\n",
       "JobSat                                                                                     \n",
       "Very satisfied                                                               0.074434      \n",
       "Slightly satisfied                                                           0.066574      \n",
       "Neither satisfied nor dissatisfied                                           0.061644      \n",
       "Slightly dissatisfied                                                        0.070568      \n",
       "Very dissatisfied                                                            0.065068      \n",
       "\n",
       "                                    Industry that I’d be working in  \\\n",
       "JobSat                                                                \n",
       "Very satisfied                                             0.048985   \n",
       "Slightly satisfied                                         0.051596   \n",
       "Neither satisfied nor dissatisfied                         0.047214   \n",
       "Slightly dissatisfied                                      0.045284   \n",
       "Very dissatisfied                                          0.045881   \n",
       "\n",
       "                                    Languages, frameworks, and other technologies I’d be working with  \\\n",
       "JobSat                                                                                                  \n",
       "Very satisfied                                                               0.170594                   \n",
       "Slightly satisfied                                                           0.180427                   \n",
       "Neither satisfied nor dissatisfied                                           0.178415                   \n",
       "Slightly dissatisfied                                                        0.181804                   \n",
       "Very dissatisfied                                                            0.176642                   \n",
       "\n",
       "                                    Office environment or company culture  \\\n",
       "JobSat                                                                      \n",
       "Very satisfied                                                   0.165680   \n",
       "Slightly satisfied                                               0.151298   \n",
       "Neither satisfied nor dissatisfied                               0.141176   \n",
       "Slightly dissatisfied                                            0.147238   \n",
       "Very dissatisfied                                                0.151303   \n",
       "\n",
       "                                    Opportunities for professional development  \\\n",
       "JobSat                                                                           \n",
       "Very satisfied                                                        0.130583   \n",
       "Slightly satisfied                                                    0.138212   \n",
       "Neither satisfied nor dissatisfied                                    0.142905   \n",
       "Slightly dissatisfied                                                 0.146469   \n",
       "Very dissatisfied                                                     0.141919   \n",
       "\n",
       "                                    Remote work options  \\\n",
       "JobSat                                                    \n",
       "Very satisfied                                 0.112686   \n",
       "Slightly satisfied                             0.115159   \n",
       "Neither satisfied nor dissatisfied             0.126613   \n",
       "Slightly dissatisfied                          0.123853   \n",
       "Very dissatisfied                              0.123775   \n",
       "\n",
       "                                    Specific department or team I’d be working on  \n",
       "JobSat                                                                             \n",
       "Very satisfied                                                           0.041588  \n",
       "Slightly satisfied                                                       0.038751  \n",
       "Neither satisfied nor dissatisfied                                       0.034180  \n",
       "Slightly dissatisfied                                                    0.037028  \n",
       "Very dissatisfied                                                        0.038269  "
      ]
     },
     "execution_count": 61,
     "metadata": {},
     "output_type": "execute_result"
    }
   ],
   "source": [
    "jobfactors_jobsatisfaction.div(jobfactors_jobsatisfaction.sum(axis=1), axis=0)"
   ]
  },
  {
   "cell_type": "markdown",
   "metadata": {},
   "source": [
    "As we can see in the table, the factors elected by each category in Job Satisfaction are very consistent between categories, with nearly the same percentage. We can conclude that the top criteria is \n",
    "- Languages, frameworks, and other technologies I’d be working with\n",
    "\n",
    "The second and third and fourth, very close and sometimes swapping inside the categories, is:\n",
    "\n",
    "- Office environment or company culture\t\n",
    "- Flex time or a flexible schedule\n",
    "- Opportunities for professional development\t"
   ]
  },
  {
   "cell_type": "code",
   "execution_count": 62,
   "metadata": {},
   "outputs": [
    {
     "data": {
      "text/plain": [
       "array(['I am not interested in new job opportunities',\n",
       "       'I’m not actively looking, but I am open to new opportunities',\n",
       "       'I am actively looking for a job'], dtype=object)"
      ]
     },
     "execution_count": 62,
     "metadata": {},
     "output_type": "execute_result"
    }
   ],
   "source": [
    "q4.JobSeek.unique()"
   ]
  },
  {
   "cell_type": "code",
   "execution_count": 63,
   "metadata": {},
   "outputs": [
    {
     "data": {
      "text/html": [
       "<div>\n",
       "<style scoped>\n",
       "    .dataframe tbody tr th:only-of-type {\n",
       "        vertical-align: middle;\n",
       "    }\n",
       "\n",
       "    .dataframe tbody tr th {\n",
       "        vertical-align: top;\n",
       "    }\n",
       "\n",
       "    .dataframe thead th {\n",
       "        text-align: right;\n",
       "    }\n",
       "</style>\n",
       "<table border=\"1\" class=\"dataframe\">\n",
       "  <thead>\n",
       "    <tr style=\"text-align: right;\">\n",
       "      <th></th>\n",
       "      <th>Diversity of the company or organization</th>\n",
       "      <th>Family friendliness</th>\n",
       "      <th>Financial performance or funding status of the company or organization</th>\n",
       "      <th>Flex time or a flexible schedule</th>\n",
       "      <th>How widely used or impactful my work output would be</th>\n",
       "      <th>Industry that I’d be working in</th>\n",
       "      <th>Languages, frameworks, and other technologies I’d be working with</th>\n",
       "      <th>Office environment or company culture</th>\n",
       "      <th>Opportunities for professional development</th>\n",
       "      <th>Remote work options</th>\n",
       "      <th>Specific department or team I’d be working on</th>\n",
       "    </tr>\n",
       "    <tr>\n",
       "      <th>JobSeek</th>\n",
       "      <th></th>\n",
       "      <th></th>\n",
       "      <th></th>\n",
       "      <th></th>\n",
       "      <th></th>\n",
       "      <th></th>\n",
       "      <th></th>\n",
       "      <th></th>\n",
       "      <th></th>\n",
       "      <th></th>\n",
       "      <th></th>\n",
       "    </tr>\n",
       "  </thead>\n",
       "  <tbody>\n",
       "    <tr>\n",
       "      <th>I am not interested in new job opportunities</th>\n",
       "      <td>757</td>\n",
       "      <td>1465</td>\n",
       "      <td>1125</td>\n",
       "      <td>4857</td>\n",
       "      <td>2318</td>\n",
       "      <td>1605</td>\n",
       "      <td>5555</td>\n",
       "      <td>5491</td>\n",
       "      <td>3912</td>\n",
       "      <td>3262</td>\n",
       "      <td>1439</td>\n",
       "    </tr>\n",
       "    <tr>\n",
       "      <th>I’m not actively looking, but I am open to new opportunities</th>\n",
       "      <td>1512</td>\n",
       "      <td>2909</td>\n",
       "      <td>2910</td>\n",
       "      <td>11361</td>\n",
       "      <td>4918</td>\n",
       "      <td>3512</td>\n",
       "      <td>12885</td>\n",
       "      <td>10650</td>\n",
       "      <td>10103</td>\n",
       "      <td>8978</td>\n",
       "      <td>2708</td>\n",
       "    </tr>\n",
       "    <tr>\n",
       "      <th>I am actively looking for a job</th>\n",
       "      <td>426</td>\n",
       "      <td>587</td>\n",
       "      <td>805</td>\n",
       "      <td>2168</td>\n",
       "      <td>1067</td>\n",
       "      <td>746</td>\n",
       "      <td>2848</td>\n",
       "      <td>2387</td>\n",
       "      <td>2586</td>\n",
       "      <td>1944</td>\n",
       "      <td>518</td>\n",
       "    </tr>\n",
       "  </tbody>\n",
       "</table>\n",
       "</div>"
      ],
      "text/plain": [
       "                                                    Diversity of the company or organization  \\\n",
       "JobSeek                                                                                        \n",
       "I am not interested in new job opportunities                                             757   \n",
       "I’m not actively looking, but I am open to new ...                                      1512   \n",
       "I am actively looking for a job                                                          426   \n",
       "\n",
       "                                                    Family friendliness  \\\n",
       "JobSeek                                                                   \n",
       "I am not interested in new job opportunities                       1465   \n",
       "I’m not actively looking, but I am open to new ...                 2909   \n",
       "I am actively looking for a job                                     587   \n",
       "\n",
       "                                                    Financial performance or funding status of the company or organization  \\\n",
       "JobSeek                                                                                                                      \n",
       "I am not interested in new job opportunities                                                     1125                        \n",
       "I’m not actively looking, but I am open to new ...                                               2910                        \n",
       "I am actively looking for a job                                                                   805                        \n",
       "\n",
       "                                                    Flex time or a flexible schedule  \\\n",
       "JobSeek                                                                                \n",
       "I am not interested in new job opportunities                                    4857   \n",
       "I’m not actively looking, but I am open to new ...                             11361   \n",
       "I am actively looking for a job                                                 2168   \n",
       "\n",
       "                                                    How widely used or impactful my work output would be  \\\n",
       "JobSeek                                                                                                    \n",
       "I am not interested in new job opportunities                                                     2318      \n",
       "I’m not actively looking, but I am open to new ...                                               4918      \n",
       "I am actively looking for a job                                                                  1067      \n",
       "\n",
       "                                                    Industry that I’d be working in  \\\n",
       "JobSeek                                                                               \n",
       "I am not interested in new job opportunities                                   1605   \n",
       "I’m not actively looking, but I am open to new ...                             3512   \n",
       "I am actively looking for a job                                                 746   \n",
       "\n",
       "                                                    Languages, frameworks, and other technologies I’d be working with  \\\n",
       "JobSeek                                                                                                                 \n",
       "I am not interested in new job opportunities                                                     5555                   \n",
       "I’m not actively looking, but I am open to new ...                                              12885                   \n",
       "I am actively looking for a job                                                                  2848                   \n",
       "\n",
       "                                                    Office environment or company culture  \\\n",
       "JobSeek                                                                                     \n",
       "I am not interested in new job opportunities                                         5491   \n",
       "I’m not actively looking, but I am open to new ...                                  10650   \n",
       "I am actively looking for a job                                                      2387   \n",
       "\n",
       "                                                    Opportunities for professional development  \\\n",
       "JobSeek                                                                                          \n",
       "I am not interested in new job opportunities                                              3912   \n",
       "I’m not actively looking, but I am open to new ...                                       10103   \n",
       "I am actively looking for a job                                                           2586   \n",
       "\n",
       "                                                    Remote work options  \\\n",
       "JobSeek                                                                   \n",
       "I am not interested in new job opportunities                       3262   \n",
       "I’m not actively looking, but I am open to new ...                 8978   \n",
       "I am actively looking for a job                                    1944   \n",
       "\n",
       "                                                    Specific department or team I’d be working on  \n",
       "JobSeek                                                                                            \n",
       "I am not interested in new job opportunities                                                 1439  \n",
       "I’m not actively looking, but I am open to new ...                                           2708  \n",
       "I am actively looking for a job                                                               518  "
      ]
     },
     "execution_count": 63,
     "metadata": {},
     "output_type": "execute_result"
    }
   ],
   "source": [
    "jobfactors_jobseek = q4.groupby('JobSeek')[['Diversity of the company or organization',\n",
    "       'Family friendliness',\n",
    "       'Financial performance or funding status of the company or organization',\n",
    "       'Flex time or a flexible schedule',\n",
    "       'How widely used or impactful my work output would be',\n",
    "       'Industry that I’d be working in',\n",
    "       'Languages, frameworks, and other technologies I’d be working with',\n",
    "       'Office environment or company culture',\n",
    "       'Opportunities for professional development', 'Remote work options',\n",
    "       'Specific department or team I’d be working on']].sum()\n",
    "jobfactors_jobseek = jobfactors_jobseek.loc[['I am not interested in new job opportunities',\n",
    "       'I’m not actively looking, but I am open to new opportunities',\n",
    "       'I am actively looking for a job']] \n",
    "jobfactors_jobseek"
   ]
  },
  {
   "cell_type": "markdown",
   "metadata": {},
   "source": [
    "Let's convert this like the last one, into relative frequencies for each JobSeek category."
   ]
  },
  {
   "cell_type": "code",
   "execution_count": 64,
   "metadata": {},
   "outputs": [
    {
     "data": {
      "text/html": [
       "<div>\n",
       "<style scoped>\n",
       "    .dataframe tbody tr th:only-of-type {\n",
       "        vertical-align: middle;\n",
       "    }\n",
       "\n",
       "    .dataframe tbody tr th {\n",
       "        vertical-align: top;\n",
       "    }\n",
       "\n",
       "    .dataframe thead th {\n",
       "        text-align: right;\n",
       "    }\n",
       "</style>\n",
       "<table border=\"1\" class=\"dataframe\">\n",
       "  <thead>\n",
       "    <tr style=\"text-align: right;\">\n",
       "      <th></th>\n",
       "      <th>Diversity of the company or organization</th>\n",
       "      <th>Family friendliness</th>\n",
       "      <th>Financial performance or funding status of the company or organization</th>\n",
       "      <th>Flex time or a flexible schedule</th>\n",
       "      <th>How widely used or impactful my work output would be</th>\n",
       "      <th>Industry that I’d be working in</th>\n",
       "      <th>Languages, frameworks, and other technologies I’d be working with</th>\n",
       "      <th>Office environment or company culture</th>\n",
       "      <th>Opportunities for professional development</th>\n",
       "      <th>Remote work options</th>\n",
       "      <th>Specific department or team I’d be working on</th>\n",
       "    </tr>\n",
       "    <tr>\n",
       "      <th>JobSeek</th>\n",
       "      <th></th>\n",
       "      <th></th>\n",
       "      <th></th>\n",
       "      <th></th>\n",
       "      <th></th>\n",
       "      <th></th>\n",
       "      <th></th>\n",
       "      <th></th>\n",
       "      <th></th>\n",
       "      <th></th>\n",
       "      <th></th>\n",
       "    </tr>\n",
       "  </thead>\n",
       "  <tbody>\n",
       "    <tr>\n",
       "      <th>I am not interested in new job opportunities</th>\n",
       "      <td>0.023816</td>\n",
       "      <td>0.046089</td>\n",
       "      <td>0.035393</td>\n",
       "      <td>0.152803</td>\n",
       "      <td>0.072925</td>\n",
       "      <td>0.050494</td>\n",
       "      <td>0.174762</td>\n",
       "      <td>0.172749</td>\n",
       "      <td>0.123073</td>\n",
       "      <td>0.102624</td>\n",
       "      <td>0.045272</td>\n",
       "    </tr>\n",
       "    <tr>\n",
       "      <th>I’m not actively looking, but I am open to new opportunities</th>\n",
       "      <td>0.020871</td>\n",
       "      <td>0.040154</td>\n",
       "      <td>0.040168</td>\n",
       "      <td>0.156820</td>\n",
       "      <td>0.067885</td>\n",
       "      <td>0.048477</td>\n",
       "      <td>0.177857</td>\n",
       "      <td>0.147006</td>\n",
       "      <td>0.139456</td>\n",
       "      <td>0.123927</td>\n",
       "      <td>0.037380</td>\n",
       "    </tr>\n",
       "    <tr>\n",
       "      <th>I am actively looking for a job</th>\n",
       "      <td>0.026489</td>\n",
       "      <td>0.036500</td>\n",
       "      <td>0.050056</td>\n",
       "      <td>0.134809</td>\n",
       "      <td>0.066347</td>\n",
       "      <td>0.046387</td>\n",
       "      <td>0.177092</td>\n",
       "      <td>0.148427</td>\n",
       "      <td>0.160801</td>\n",
       "      <td>0.120880</td>\n",
       "      <td>0.032210</td>\n",
       "    </tr>\n",
       "  </tbody>\n",
       "</table>\n",
       "</div>"
      ],
      "text/plain": [
       "                                                    Diversity of the company or organization  \\\n",
       "JobSeek                                                                                        \n",
       "I am not interested in new job opportunities                                        0.023816   \n",
       "I’m not actively looking, but I am open to new ...                                  0.020871   \n",
       "I am actively looking for a job                                                     0.026489   \n",
       "\n",
       "                                                    Family friendliness  \\\n",
       "JobSeek                                                                   \n",
       "I am not interested in new job opportunities                   0.046089   \n",
       "I’m not actively looking, but I am open to new ...             0.040154   \n",
       "I am actively looking for a job                                0.036500   \n",
       "\n",
       "                                                    Financial performance or funding status of the company or organization  \\\n",
       "JobSeek                                                                                                                      \n",
       "I am not interested in new job opportunities                                                 0.035393                        \n",
       "I’m not actively looking, but I am open to new ...                                           0.040168                        \n",
       "I am actively looking for a job                                                              0.050056                        \n",
       "\n",
       "                                                    Flex time or a flexible schedule  \\\n",
       "JobSeek                                                                                \n",
       "I am not interested in new job opportunities                                0.152803   \n",
       "I’m not actively looking, but I am open to new ...                          0.156820   \n",
       "I am actively looking for a job                                             0.134809   \n",
       "\n",
       "                                                    How widely used or impactful my work output would be  \\\n",
       "JobSeek                                                                                                    \n",
       "I am not interested in new job opportunities                                                 0.072925      \n",
       "I’m not actively looking, but I am open to new ...                                           0.067885      \n",
       "I am actively looking for a job                                                              0.066347      \n",
       "\n",
       "                                                    Industry that I’d be working in  \\\n",
       "JobSeek                                                                               \n",
       "I am not interested in new job opportunities                               0.050494   \n",
       "I’m not actively looking, but I am open to new ...                         0.048477   \n",
       "I am actively looking for a job                                            0.046387   \n",
       "\n",
       "                                                    Languages, frameworks, and other technologies I’d be working with  \\\n",
       "JobSeek                                                                                                                 \n",
       "I am not interested in new job opportunities                                                 0.174762                   \n",
       "I’m not actively looking, but I am open to new ...                                           0.177857                   \n",
       "I am actively looking for a job                                                              0.177092                   \n",
       "\n",
       "                                                    Office environment or company culture  \\\n",
       "JobSeek                                                                                     \n",
       "I am not interested in new job opportunities                                     0.172749   \n",
       "I’m not actively looking, but I am open to new ...                               0.147006   \n",
       "I am actively looking for a job                                                  0.148427   \n",
       "\n",
       "                                                    Opportunities for professional development  \\\n",
       "JobSeek                                                                                          \n",
       "I am not interested in new job opportunities                                          0.123073   \n",
       "I’m not actively looking, but I am open to new ...                                    0.139456   \n",
       "I am actively looking for a job                                                       0.160801   \n",
       "\n",
       "                                                    Remote work options  \\\n",
       "JobSeek                                                                   \n",
       "I am not interested in new job opportunities                   0.102624   \n",
       "I’m not actively looking, but I am open to new ...             0.123927   \n",
       "I am actively looking for a job                                0.120880   \n",
       "\n",
       "                                                    Specific department or team I’d be working on  \n",
       "JobSeek                                                                                            \n",
       "I am not interested in new job opportunities                                             0.045272  \n",
       "I’m not actively looking, but I am open to new ...                                       0.037380  \n",
       "I am actively looking for a job                                                          0.032210  "
      ]
     },
     "execution_count": 64,
     "metadata": {},
     "output_type": "execute_result"
    }
   ],
   "source": [
    "jobfactors_jobseek = jobfactors_jobseek.div(jobfactors_jobseek.sum(axis=1), axis=0)\n",
    "jobfactors_jobseek"
   ]
  },
  {
   "cell_type": "markdown",
   "metadata": {},
   "source": [
    "When looking at the table, we can see that the main factor is:\n",
    "\n",
    "- Languages, frameworks, and other technologies I’d be working with\n",
    "\n",
    "However, when looking at the other factors, the scenario changes between Job Seek Status. Office environment or company culture is higher ranked amongst those who are not interested in new job opportunities. It is likely that they enjoy the environment that they currently have.\n",
    "Interestingly, the rank for \"opportunities for professional development\" increases from the \"not interested\", to \"open\" and then to \"actively seeking\", overtaking office environment in the later. This is an indication of the perception of those willing or open to jump to a new opportunity may feel their professional development is more difficult.\n",
    "\n",
    "Other observations: Remote work options are ranked lower for those not open to new opportunities in comparison to the other status. This can mean they already have it or it may be a reason for employees that are willing or opento change jobs."
   ]
  },
  {
   "cell_type": "code",
   "execution_count": 65,
   "metadata": {},
   "outputs": [
    {
     "data": {
      "text/plain": [
       "Text(0.5, 1.0, 'Some of the main factors for Job selection and Job Seek Status')"
      ]
     },
     "execution_count": 65,
     "metadata": {},
     "output_type": "execute_result"
    },
    {
     "data": {
      "image/png": "[encoded data removed]",
      "text/plain": [
       "<Figure size 1080x360 with 1 Axes>"
      ]
     },
     "metadata": {
      "needs_background": "light"
     },
     "output_type": "display_data"
    }
   ],
   "source": [
    "jobfactors_jobseek[['Office environment or company culture','Opportunities for professional development',\n",
    "                   'Remote work options','Family friendliness']].plot.bar(figsize=(15,5), rot=0)\n",
    "plt.title('Some of the main factors for Job selection and Job Seek Status')"
   ]
  },
  {
   "cell_type": "markdown",
   "metadata": {},
   "source": [
    "## 5.Conclusions\n",
    "\n",
    "After carefully looking into the proposed questions:\n",
    "\n",
    "- A: \"Do employees of smaller companies earn overall less than those working for bigger companies?\"\n",
    "- B: \"Job satisfaction equals bigger salary?\"\n",
    "- C: \"What is the influence Job satisfaction and Job seeking factors into Job seeking status?\"\n",
    "\n",
    "We can see that:\n",
    "\n",
    "- Overall bigger companies pay bigger salaries, but individual, autonomous, have a bigger spread and a median compensation that is similar to that of a big company.\n",
    "- Job satisfaction does not equals to bigger salary, as we could see that dissatisfied and satisfied employees had very similar compensation.\n",
    "- Very Satisfied employees are less likely to be open or actively looking for jobs, however, other categories show more openess and will to change. Surprisingly, a bigger chunk of very unsatisfied people is not looking or open to a new job in comparisson to \"less unsatisfied\" groups. This means that, in general, this is not a decising factor, specially to be open to new jobs.\n",
    "- Languages, frameworks and technologies are the most important factor for new Job selection for all Job seeking status. However, other factors show some dependence, as the opportunities for professional development become more important those open and actively looking for jobs. Factors like environment, culture and family friendliness tend to be more important for those not actively looking for jobs. This can be either cause or effect for lack of interest in job seeking, but is noticeable."
   ]
  },
  {
   "cell_type": "code",
   "execution_count": null,
   "metadata": {},
   "outputs": [],
   "source": []
  },
  {
   "cell_type": "code",
   "execution_count": null,
   "metadata": {},
   "outputs": [],
   "source": []
  }
 ],
 "metadata": {
  "kernelspec": {
   "display_name": "Python 3",
   "language": "python",
   "name": "python3"
  },
  "language_info": {
   "codemirror_mode": {
    "name": "ipython",
    "version": 3
   },
   "file_extension": ".py",
   "mimetype": "text/x-python",
   "name": "python",
   "nbconvert_exporter": "python",
   "pygments_lexer": "ipython3",
   "version": "3.7.6"
  }
 },
 "nbformat": 4,
 "nbformat_minor": 2
}
